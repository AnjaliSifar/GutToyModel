{
 "cells": [
  {
   "cell_type": "code",
   "execution_count": 1,
   "metadata": {},
   "outputs": [],
   "source": [
    "import numpy as np\n",
    "import matplotlib.pyplot as plt\n",
    "import pandas as pd\n",
    "from itertools import product"
   ]
  },
  {
   "cell_type": "code",
   "execution_count": 2,
   "metadata": {},
   "outputs": [],
   "source": [
    "a = list(product(np.linspace(0,1,11).round(1),np.linspace(0,1,11).round(1),np.linspace(0,1,11).round(1)))\n",
    "len(a)\n",
    "rtable = {}"
   ]
  },
  {
   "cell_type": "code",
   "execution_count": 3,
   "metadata": {},
   "outputs": [],
   "source": [
    "dopamine_b1 = np.zeros(1331)\n",
    "for i,kk in enumerate(a):\n",
    "    dopamine_b1[i] = np.round(2*kk[0]+0.6*kk[1]+0.1*kk[2],2)\n",
    "\n",
    "dopamine_b2 = np.zeros(1331)\n",
    "for i,kk in enumerate(a):\n",
    "    dopamine_b2[i] = np.round(5*kk[0]+0.1*kk[1]+0.2*kk[2],2)\n",
    "    \n",
    "dopamine_b3 = np.zeros(1331)\n",
    "for i,kk in enumerate(a):\n",
    "    dopamine_b3[i] = np.round(1*kk[0]+0.1*kk[1]+0.01*kk[2],2)"
   ]
  },
  {
   "cell_type": "code",
   "execution_count": 4,
   "metadata": {},
   "outputs": [
    {
     "data": {
      "text/plain": [
       "(9.11, 9.11, array([0.  , 0.03, 0.06, ..., 9.05, 9.08, 9.11]))"
      ]
     },
     "execution_count": 4,
     "metadata": {},
     "output_type": "execute_result"
    }
   ],
   "source": [
    "max_dop = np.zeros(len(a))\n",
    "\n",
    "for ii,ai in enumerate(a):\n",
    "    rtable[ai,'bacteria_1'] = dopamine_b1[ii]\n",
    "    rtable[ai,'bacteria_2'] = dopamine_b2[ii]\n",
    "    rtable[ai,'bacteria_3'] = dopamine_b3[ii]\n",
    "    max_dop[ii] = dopamine_b1[ii] +dopamine_b2[ii]+dopamine_b3[ii]\n",
    "\n",
    "    \n",
    "max(max_dop),max_dop[-1],max_dop"
   ]
  },
  {
   "cell_type": "code",
   "execution_count": 5,
   "metadata": {},
   "outputs": [
    {
     "data": {
      "text/plain": [
       "(((0.0, 1.0, 0.0), 'bacteria_1'), 0.6)"
      ]
     },
     "execution_count": 5,
     "metadata": {},
     "output_type": "execute_result"
    }
   ],
   "source": [
    "b =(tuple(np.random.choice(np.linspace(0,1,11),3).round())),np.random.choice(['bacteria_1','bacteria_2','bacteria_3'])\n",
    "\n",
    "b,rtable.get(b)"
   ]
  },
  {
   "cell_type": "code",
   "execution_count": 20,
   "metadata": {},
   "outputs": [],
   "source": [
    "class Bacteria():\n",
    "    def __init__(self,t):\n",
    "        self.population_size = np.random.randint(100,200)\n",
    "        self.type = t\n",
    "\n",
    "class Organism():\n",
    "    \n",
    "    def __init__(self,n):\n",
    "        self.nutrients = n\n",
    "        self.brain = Brain(self)\n",
    "        self.gut = [Bacteria('bacteria_'+str(i+1)) for i in range(3)]\n",
    "       \n",
    "        \n",
    "    def run(self):\n",
    "        self.brain.setState()\n",
    "        for i in range(100000):\n",
    "            self.brain.takeAction()\n",
    "        \n",
    "act = list(product(np.linspace(0,0.1,2),np.linspace(-0.1,0.1,2),np.linspace(-0.1,0.1,2)))\n",
    "# act.remove((0.0,0.0,0.0))\n",
    "act = tuple(act)\n",
    "\n",
    "    \n",
    "class Brain():\n",
    "    \n",
    "    def __init__(self,organism):\n",
    "        self.organism = organism\n",
    "#          check what to name this \n",
    "        self.actions = act\n",
    "        self.state = (0,0,1)\n",
    "        \n",
    "        self.alpha = 1\n",
    "        self.gamma = 0.1\n",
    "        self.epsilon = 0.01\n",
    "        self.qtable = {}\n",
    "\n",
    "    def setState(self):\n",
    "        self.state = self.organism.nutrients\n",
    "        \n",
    "def takeAction(self):\n",
    "        all_q = [self.qtable.get((self.state,a),0.0) for a in self.actions]\n",
    "        all_max_ind = np.where(all_q == np.max(all_q))[0]\n",
    "        action = self.actions[np.random.choice(all_max_ind)]\n",
    "        \n",
    "#         use exploration\n",
    "        if np.random.random()< self.epsilon:\n",
    "            action = tuple(np.random.choice([0.1,0.0,-0.1], 3))\n",
    "            \n",
    "            \n",
    "        self.ostate = self.state\n",
    "        self.oaction = action\n",
    "        self.state = tuple(np.round(np.clip(np.array(self.ostate) + np.array(action),0,1),1))\n",
    "\n",
    "        # this is the summation of dopamine from all bacterium, say         \n",
    "        self.oreward = np.sum([rtable.get((self.ostate,b.type)) for b in self.organism.gut])\n",
    "#         print(\"\"\" While selecting an action: \n",
    "#         old state = {0}\n",
    "#         action taken = {1}\n",
    "#         new state = {2}\n",
    "\n",
    "#         reward = {3}\n",
    "#         \"\"\".format(self.ostate, action,self.state,self.oreward,self.state))\n",
    "        \n",
    "              \n",
    "        self.learn()\n",
    "        \n",
    "        \n",
    "def learn(self):\n",
    "    old_q = self.qtable.get((self.ostate,self.oaction),0.0)\n",
    "#         print(\"\"\"\n",
    "#         old_q  = {0}\n",
    "#         self state = {4}, old state = {5}\n",
    "#         qtable = {3}\n",
    "#         \"\"\".format(old_q,len(self.actions),self.actions,\n",
    "#                   self.qtable.get((self.state,self.actions[0]),np.nan),\n",
    "#                    self.state,self.ostate))\n",
    "\n",
    "    max_new_q = np.max([self.qtable.get((self.state,a),0.0) for a in self.actions])\n",
    "\n",
    "\n",
    "    newq = old_q + self.alpha*(self.oreward + self.gamma*max_new_q - old_q)\n",
    "\n",
    "    self.qtable[(self.ostate,self.oaction)] = np.round(newq,3)\n",
    "\n",
    "\n",
    "#         print(\"\"\"\n",
    "#                 Old Q = {0}\n",
    "#         max New Q = {1}\n",
    "#         New Q = {2}\n",
    "\n",
    "#         Q table = {3}\n",
    "#     \"\"\".format(old_q,max_new_q,newq,self.qtable))"
   ]
  },
  {
   "cell_type": "code",
   "execution_count": 21,
   "metadata": {},
   "outputs": [
    {
     "ename": "AttributeError",
     "evalue": "'Brain' object has no attribute 'takeAction'",
     "output_type": "error",
     "traceback": [
      "\u001b[0;31m---------------------------------------------------------------------------\u001b[0m",
      "\u001b[0;31mAttributeError\u001b[0m                            Traceback (most recent call last)",
      "\u001b[0;32m<ipython-input-21-ca5f35060739>\u001b[0m in \u001b[0;36m<module>\u001b[0;34m\u001b[0m\n\u001b[1;32m      1\u001b[0m \u001b[0mo\u001b[0m \u001b[0;34m=\u001b[0m \u001b[0mOrganism\u001b[0m\u001b[0;34m(\u001b[0m\u001b[0;34m(\u001b[0m\u001b[0;36m0.2\u001b[0m\u001b[0;34m,\u001b[0m\u001b[0;36m0.4\u001b[0m\u001b[0;34m,\u001b[0m\u001b[0;36m0.3\u001b[0m\u001b[0;34m)\u001b[0m\u001b[0;34m)\u001b[0m\u001b[0;34m\u001b[0m\u001b[0;34m\u001b[0m\u001b[0m\n\u001b[0;32m----> 2\u001b[0;31m \u001b[0mo\u001b[0m\u001b[0;34m.\u001b[0m\u001b[0mrun\u001b[0m\u001b[0;34m(\u001b[0m\u001b[0;34m)\u001b[0m\u001b[0;34m\u001b[0m\u001b[0;34m\u001b[0m\u001b[0m\n\u001b[0m\u001b[1;32m      3\u001b[0m \u001b[0mo\u001b[0m\u001b[0;34m.\u001b[0m\u001b[0mbrain\u001b[0m\u001b[0;34m.\u001b[0m\u001b[0mqtable\u001b[0m\u001b[0;34m\u001b[0m\u001b[0;34m\u001b[0m\u001b[0m\n",
      "\u001b[0;32m<ipython-input-20-6548a7390ded>\u001b[0m in \u001b[0;36mrun\u001b[0;34m(self)\u001b[0m\n\u001b[1;32m     15\u001b[0m         \u001b[0mself\u001b[0m\u001b[0;34m.\u001b[0m\u001b[0mbrain\u001b[0m\u001b[0;34m.\u001b[0m\u001b[0msetState\u001b[0m\u001b[0;34m(\u001b[0m\u001b[0;34m)\u001b[0m\u001b[0;34m\u001b[0m\u001b[0;34m\u001b[0m\u001b[0m\n\u001b[1;32m     16\u001b[0m         \u001b[0;32mfor\u001b[0m \u001b[0mi\u001b[0m \u001b[0;32min\u001b[0m \u001b[0mrange\u001b[0m\u001b[0;34m(\u001b[0m\u001b[0;36m100000\u001b[0m\u001b[0;34m)\u001b[0m\u001b[0;34m:\u001b[0m\u001b[0;34m\u001b[0m\u001b[0;34m\u001b[0m\u001b[0m\n\u001b[0;32m---> 17\u001b[0;31m             \u001b[0mself\u001b[0m\u001b[0;34m.\u001b[0m\u001b[0mbrain\u001b[0m\u001b[0;34m.\u001b[0m\u001b[0mtakeAction\u001b[0m\u001b[0;34m(\u001b[0m\u001b[0;34m)\u001b[0m\u001b[0;34m\u001b[0m\u001b[0;34m\u001b[0m\u001b[0m\n\u001b[0m\u001b[1;32m     18\u001b[0m \u001b[0;34m\u001b[0m\u001b[0m\n\u001b[1;32m     19\u001b[0m \u001b[0mact\u001b[0m \u001b[0;34m=\u001b[0m \u001b[0mlist\u001b[0m\u001b[0;34m(\u001b[0m\u001b[0mproduct\u001b[0m\u001b[0;34m(\u001b[0m\u001b[0mnp\u001b[0m\u001b[0;34m.\u001b[0m\u001b[0mlinspace\u001b[0m\u001b[0;34m(\u001b[0m\u001b[0;36m0\u001b[0m\u001b[0;34m,\u001b[0m\u001b[0;36m0.1\u001b[0m\u001b[0;34m,\u001b[0m\u001b[0;36m2\u001b[0m\u001b[0;34m)\u001b[0m\u001b[0;34m,\u001b[0m\u001b[0mnp\u001b[0m\u001b[0;34m.\u001b[0m\u001b[0mlinspace\u001b[0m\u001b[0;34m(\u001b[0m\u001b[0;34m-\u001b[0m\u001b[0;36m0.1\u001b[0m\u001b[0;34m,\u001b[0m\u001b[0;36m0.1\u001b[0m\u001b[0;34m,\u001b[0m\u001b[0;36m2\u001b[0m\u001b[0;34m)\u001b[0m\u001b[0;34m,\u001b[0m\u001b[0mnp\u001b[0m\u001b[0;34m.\u001b[0m\u001b[0mlinspace\u001b[0m\u001b[0;34m(\u001b[0m\u001b[0;34m-\u001b[0m\u001b[0;36m0.1\u001b[0m\u001b[0;34m,\u001b[0m\u001b[0;36m0.1\u001b[0m\u001b[0;34m,\u001b[0m\u001b[0;36m2\u001b[0m\u001b[0;34m)\u001b[0m\u001b[0;34m)\u001b[0m\u001b[0;34m)\u001b[0m\u001b[0;34m\u001b[0m\u001b[0;34m\u001b[0m\u001b[0m\n",
      "\u001b[0;31mAttributeError\u001b[0m: 'Brain' object has no attribute 'takeAction'"
     ]
    }
   ],
   "source": [
    "o = Organism((0.2,0.4,0.3))\n",
    "o.run()\n",
    "o.brain.qtable"
   ]
  },
  {
   "cell_type": "code",
   "execution_count": null,
   "metadata": {},
   "outputs": [],
   "source": []
  },
  {
   "cell_type": "code",
   "execution_count": null,
   "metadata": {},
   "outputs": [],
   "source": []
  },
  {
   "cell_type": "code",
   "execution_count": null,
   "metadata": {},
   "outputs": [],
   "source": []
  },
  {
   "cell_type": "code",
   "execution_count": null,
   "metadata": {},
   "outputs": [],
   "source": []
  }
 ],
 "metadata": {
  "kernelspec": {
   "display_name": "Python 3",
   "language": "python",
   "name": "python3"
  },
  "language_info": {
   "codemirror_mode": {
    "name": "ipython",
    "version": 3
   },
   "file_extension": ".py",
   "mimetype": "text/x-python",
   "name": "python",
   "nbconvert_exporter": "python",
   "pygments_lexer": "ipython3",
   "version": "3.9.0"
  }
 },
 "nbformat": 4,
 "nbformat_minor": 4
}
