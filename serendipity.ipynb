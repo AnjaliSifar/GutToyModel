{
  "nbformat": 4,
  "nbformat_minor": 0,
  "metadata": {
    "language_info": {
      "codemirror_mode": {
        "name": "ipython",
        "version": 3
      },
      "file_extension": ".py",
      "mimetype": "text/x-python",
      "name": "python",
      "nbconvert_exporter": "python",
      "pygments_lexer": "ipython3",
      "version": "3.7.3-final"
    },
    "orig_nbformat": 2,
    "kernelspec": {
      "name": "python3",
      "display_name": "Python 3.7.3 64-bit ('base': conda)",
      "metadata": {
        "interpreter": {
          "hash": "171b8712bf02bf9c30074648b83b9be1182d95d56d650742018a2c7e5290d606"
        }
      }
    },
    "colab": {
      "name": "Copy of serendipity.ipynb",
      "provenance": [],
      "collapsed_sections": [],
      "include_colab_link": true
    }
  },
  "cells": [
    {
      "cell_type": "markdown",
      "metadata": {
        "id": "view-in-github",
        "colab_type": "text"
      },
      "source": [
        "<a href=\"https://colab.research.google.com/github/AnjaliSifar/GutToyModel/blob/main/serendipity.ipynb\" target=\"_parent\"><img src=\"https://colab.research.google.com/assets/colab-badge.svg\" alt=\"Open In Colab\"/></a>"
      ]
    },
    {
      "cell_type": "code",
      "metadata": {
        "id": "ZiHrcf9h0nZf",
        "cellView": "form"
      },
      "source": [
        "#@title\n",
        "import numpy as np\n",
        "import matplotlib.pyplot as plt\n",
        "from itertools import product\n",
        "import random\n",
        "import time\n",
        "from tqdm import tqdm\n",
        "\n",
        "from datetime import datetime\n",
        "import os,errno\n",
        "# drive.mount('/content/gdrive')\n"
      ],
      "execution_count": 1,
      "outputs": []
    },
    {
      "cell_type": "code",
      "metadata": {
        "cellView": "form",
        "id": "xxnitihqPdl8"
      },
      "source": [
        "#@title\n",
        "def createDir(dir):\n",
        "  try:\n",
        "      os.mkdir(dir)\n",
        "      print(\"created directory\",dir)\n",
        "  except OSError as e:\n",
        "      if e.errno == errno.EEXIST:\n",
        "          print('Directory ',dir,'already exists.')\n",
        "      else:\n",
        "          raise  "
      ],
      "execution_count": 2,
      "outputs": []
    },
    {
      "cell_type": "code",
      "metadata": {
        "id": "67dahBXa0nZj",
        "cellView": "form"
      },
      "source": [
        "#@title\n",
        "   \n",
        "class Brain:\n",
        "    def __init__(self, behavior, **kwargs):\n",
        "\n",
        "        # Params\n",
        "        self.alpha = kwargs.get('alpha', 0.1)\n",
        "        self.gamma = kwargs.get('gamma', 0.05)\n",
        "        self.epsilon = kwargs.get('epsilon', 0.1)\n",
        "        \n",
        "        self.time = kwargs.get('time', 1)  #for debugging\n",
        "\n",
        "        # for convenience\n",
        "        self.nActions = len(behavior.actionSet)\n",
        "        self.nStates = len(behavior.stateSet)\n",
        "\n",
        "        # To be computed\n",
        "        self.qTable = np.zeros((self.nStates,self.nActions))\n",
        "        self.oStateInd = behavior.stateInd\n",
        "        self.oActionInd = None\n",
        "\n",
        "\n",
        "    def do(self,stateInd):\n",
        "        self.oStateInd= stateInd\n",
        "        if(np.random.random() > self.epsilon):\n",
        "            actionInd = self.exploit(stateInd)\n",
        "        else:\n",
        "            actionInd = self.explore()\n",
        "\n",
        "        self.oActionInd = actionInd\n",
        "        return self.oActionInd\n",
        "\n",
        "        \n",
        "\n",
        "    def learn(self,newstate, reward):\n",
        "        \n",
        "        old_q = self.qTable[self.oStateInd,self.oActionInd]\n",
        "        maxFutureQ = max(self.qTable[newstate, :])\n",
        "\n",
        "        self.qTable[self.oStateInd, self.oActionInd] = old_q + self.alpha*(reward +                 self.gamma*maxFutureQ - old_q)\n",
        "\n",
        "# For debugging only\n",
        "        # delta = self.qTable[self.oStateInd, self.oActionInd] - old_q\n",
        "        # if self.time%100 == 0:\n",
        "        #     print(\"\"\" delta = {0:.4f} , old q= {1:.3f}, new q = {2:.3f}\n",
        "        #         \"\"\".format(delta,old_q,self.qTable[self.oldStateIndex, self.oldActionIndex]))\n",
        "\n",
        "        \n",
        "           \n",
        "    def exploit(self,stateInd):\n",
        "        possibleActionValues = self.qTable[stateInd, :]\n",
        "        maxActionInd = np.where(possibleActionValues == max(possibleActionValues))[0]\n",
        "        return np.random.choice(maxActionInd)\n",
        "        \n",
        "        \n",
        "    def explore(self):\n",
        "        return np.random.choice(range(self.nActions))"
      ],
      "execution_count": 3,
      "outputs": []
    },
    {
      "cell_type": "code",
      "metadata": {
        "tags": [],
        "id": "S9WO0fiJ0nZl",
        "cellView": "form"
      },
      "source": [
        "#@title\n",
        "class Behavior:\n",
        "    def __init__(self,initState=None,nNutrients = 3, **kwargs):\n",
        "\n",
        "\n",
        "        self.nNutrients = nNutrients\n",
        "\n",
        "# Create state and action sets\n",
        "        self.stateSlicer =  kwargs.get('stateSlicer',5)\n",
        "        self.actionSlicer =  kwargs.get('actionSlicer', 2)\n",
        "\n",
        "        tempState = np.linspace(0, 1, self.stateSlicer).round(2)\n",
        "        #to include space for each nutrient, dynamically add state space for each nutrient\n",
        "        tempList = np.tile(tempState,(nNutrients,1)) \n",
        "        self.stateSet = list(product(*tempList)) \n",
        "        \n",
        "        temp_t = tempState[1]-tempState[0]\n",
        "        tempAction = np.linspace(-temp_t,temp_t,self.actionSlicer)\n",
        "        tempList = np.tile(tempAction,(nNutrients,1)) \n",
        "        self.actionSet = list(product(*tempList))\n",
        "\n",
        "\n",
        "        if not initState:\n",
        "            self.stateInd = np.random.choice(range(len(self.stateSet)))\n",
        "            print(\"\"\"randomly initialised to {0} state\"\"\".format(self.stateSet[self.stateInd]))\n",
        "        else:\n",
        "            state =  initState   #Initializing\n",
        "            self.stateInd = self.findStateIndex(state)\n",
        "            print(\"\"\"initialised to  {0}\"\"\".format(state))\n",
        "\n",
        "\n",
        "        self.stm = np.zeros((len(self.stateSet), len(self.actionSet)))\n",
        "        self.computeStateTransitions()\n",
        "\n",
        "\n",
        "        self.output = np.zeros((self.nNutrients))\n",
        "\n",
        "\n",
        "    def computeStateTransitions(self):\n",
        "        tic = time.perf_counter()\n",
        "\n",
        "        for (si,_),(ai,_) in product(enumerate(self.stateSet),enumerate(self.actionSet)):\n",
        "            nsi = self.updateState(si,ai) \n",
        "            self.stm[si,ai] = nsi\n",
        "        toc = time.perf_counter()\n",
        "\n",
        "        print(\"\"\"total time to compute state transition matrix = {0:.2f} seconds\"\"\".format(toc-tic))\n",
        "\n",
        "\n",
        "    def findStateIndex(self,s):\n",
        "        return np.where((self.stateSet == s).all(axis=1))[0][0]           \n",
        "\n",
        "\n",
        "    def updateState(self,si,ai):\n",
        "        s = self.stateSet[si]\n",
        "        a = self.actionSet[ai]\n",
        "        #new state defined by behavior based upon action chosen by brain\n",
        "        ns = np.clip(np.array(s)+np.array(a),0,1).round(2) \n",
        "        ind = self.findStateIndex(ns)\n",
        "        return ind\n",
        "\n",
        "    def ingestNutrients(self):\n",
        "        self.output = np.random.binomial(1,self.stateSet[self.stateInd])\n",
        "\n"
      ],
      "execution_count": 4,
      "outputs": []
    },
    {
      "cell_type": "code",
      "metadata": {
        "id": "4YBoOoEq0nZo",
        "cellView": "form"
      },
      "source": [
        "#@title\n",
        "class Gut:\n",
        "    def __init__(self,initPop = None,nBacteria = 3,**kwargs):\n",
        "        \n",
        "\n",
        "        self.nBacteria = nBacteria\n",
        "        self.pop = np.random.choice(np.arange(100,200),self.nBacteria)\n",
        "\n",
        "        self.gc = kwargs.get('gc',0.1)\n",
        "        self.dc = kwargs.get('dc',0.1)\n",
        "        self.K = kwargs.get('K',25000)\n",
        "        self.contribution = kwargs.get('contribution',np.ones((nBacteria)))\n",
        "            \n",
        "    ## Population-based implementation\n",
        "    def updatePopulation(self, nutrients):\n",
        "\n",
        "        self.pop = self.pop*(1+self.gc*nutrients - self.pop*self.dc/self.K)\n",
        "\n",
        "\n",
        "    def generateReward(self,nutrients):\n",
        "\n",
        "        self.reward = np.sum(self.pop*self.contribution*nutrients)\n",
        "        self.reward = self.reward/(self.gc*self.K/self.dc)\n",
        "    "
      ],
      "execution_count": 5,
      "outputs": []
    },
    {
      "cell_type": "code",
      "metadata": {
        "id": "z_5lyNxg0nZp",
        "colab": {
          "base_uri": "https://localhost:8080/"
        },
        "outputId": "11be0512-edf0-44e0-fb2c-9d5deef16562"
      },
      "source": [
        "base_dir = '/content/gdrive/MyDrive/Colab Notebooks/simulations/'\n",
        "\n",
        "createDir(base_dir)\n",
        "\n",
        "folder = base_dir+'exp1/'\n",
        "saveFig = True\n",
        "fileFormat ='png'\n",
        "plotN = 0\n",
        "\n",
        "behavior = Behavior(nNutrients=3,stateSlicer = 6,actionSlicer = 2)\n",
        "brain = Brain(behavior)\n",
        "gut = Gut(nBacteria = 3)\n",
        "\n",
        "stepSize = 100\n",
        "iterations = 10000\n",
        "n = iterations//stepSize\n",
        "gut.gc = 0.01\n",
        "gut.dc = 0.01\n",
        "gut.contribution = np.ones((gut.nBacteria))\n",
        "# gut.contribution = np.random.randint(0,2,gut.nBacteria)\n"
      ],
      "execution_count": 6,
      "outputs": [
        {
          "output_type": "stream",
          "text": [
            "created directory /content/gdrive/MyDrive/Colab Notebooks/simulations/\n",
            "randomly initialised to (0.8, 0.0, 0.0) state\n",
            "total time to compute state transition matrix = 0.59 seconds\n"
          ],
          "name": "stdout"
        }
      ]
    },
    {
      "cell_type": "code",
      "metadata": {
        "tags": [],
        "id": "HEA_vT1c0nZq",
        "colab": {
          "base_uri": "https://localhost:8080/"
        },
        "outputId": "7fa16e73-65cc-4318-c7e8-7e43e231d3e7"
      },
      "source": [
        "\n",
        "\n",
        "# instead of recording system state at fixed intervals, we can also record history at random timesteps\n",
        "# randSel = np.random.randint(0,iterations,n)\n",
        "# randSel.sort()\n",
        "\n",
        "behaviorHistory = np.zeros((iterations//stepSize,behavior.nNutrients))\n",
        "gutPopHistory = np.zeros((iterations//stepSize,gut.nBacteria))\n",
        "rewardHistory = np.zeros((iterations//stepSize))\n",
        "stateHistory = np.zeros((n,behavior.nNutrients))\n",
        "actionHistory = np.zeros((n,behavior.nNutrients))\n",
        "idx=0\n",
        "for t in tqdm(range(iterations)):\n",
        "    \n",
        "\n",
        "    # find best possible action in brain using RL\n",
        "    actionInd = brain.do(behavior.stateInd)\n",
        "    \n",
        "    # update behavior state as a result of action chosen by brain\n",
        "    oldInd = behavior.stateInd\n",
        "    newStateInd = behavior.updateState(behavior.stateInd,actionInd)\n",
        "    behavior.stateInd = newStateInd\n",
        "\n",
        "    #find the reward elicited by gut\n",
        "    behavior.ingestNutrients()\n",
        "    gut.generateReward(behavior.output)\n",
        "    \n",
        "    gut.updatePopulation(behavior.output)\n",
        "    # print(\"\"\" t= {0}\n",
        "    # old state = {1}, {2}\n",
        "    # selected action = {3},{4}\n",
        "    # new state == {5}, {6}\n",
        "    # nutrients ingested = {7}\n",
        "    # updated gut population = {8}\n",
        "    # reward chemicals from gut = {9}\n",
        "    # \"\"\".format(\n",
        "    #     t\n",
        "    #     ,oldInd,behavior.stateSet[oldInd]\n",
        "    #     ,actionInd,behavior.actionSet[actionInd]\n",
        "    #     ,newStateInd,behavior.stateSet[newStateInd]\n",
        "    #     ,behavior.output\n",
        "    #     ,gut.pop\n",
        "    #     ,gut.reward\n",
        "    #     ))\n",
        "    \n",
        "    \n",
        "    brain.learn(newStateInd,gut.reward)\n",
        "    brain.time = t\n",
        "\n",
        "    if t%100 ==0:\n",
        "        brain.epsilon*=0.99\n",
        "\n",
        "    if t%stepSize==0:\n",
        "        behaviorHistory[idx] = behavior.output\n",
        "        gutPopHistory[idx] = gut.pop\n",
        "        rewardHistory[idx] = gut.reward\n",
        "        stateHistory[idx] = behavior.stateSet[oldInd]\n",
        "        actionHistory[idx] = behavior.actionSet[actionInd]\n",
        "\n",
        "        idx+=1\n",
        "\n",
        "    # if idx<n and t==randSel[idx] :\n",
        "    #     behaviorHistory[idx] = behavior.output\n",
        "    #     gutPopHistory[idx] = gut.pop\n",
        "    #     rewardHistory[idx] = gut.reward\n",
        "    #     stateHistory[idx] = behavior.stateSet[behavior.stateInd]\n",
        "    #     idx+=1\n"
      ],
      "execution_count": 7,
      "outputs": [
        {
          "output_type": "stream",
          "text": [
            "100%|██████████| 10000/10000 [00:04<00:00, 2078.12it/s]\n"
          ],
          "name": "stderr"
        }
      ]
    },
    {
      "cell_type": "code",
      "metadata": {
        "id": "1IuGXft_0nZt",
        "colab": {
          "base_uri": "https://localhost:8080/"
        },
        "outputId": "f64017ec-bf4c-4350-f601-c8b96f7fbf99"
      },
      "source": [
        "\n",
        "if saveFig:\n",
        "  now = datetime.now()\n",
        "  dt_string = now.strftime(\"%d/%m/%Y %H:%M:%S\")\n",
        "\n",
        "  createDir(folder)\n",
        "  \n",
        "  params = \"\"\" SIMULATION RAN ON : {dt}\n",
        "  number of iterations = {0}\n",
        "  graph plotted for last {1} iterations\n",
        "\n",
        "  BEHAVIOUR PARAMETERS \n",
        "  =======================\n",
        "  # nutrients = {b1}\n",
        "  state slicer = {b2}\n",
        "  action slicer = {b3}\n",
        "\n",
        "  shapes of stm, state space, action space = {b4},{b5},{b6}\n",
        "\n",
        "\n",
        "  GUT PARAMETERS\n",
        "  ===============\n",
        "  Growth constant = {g1}\n",
        "  Decay constant = {g2}\n",
        "  K = {g3}\n",
        "  per bacteria contribution = {g4}\n",
        "\n",
        "  BRAIN PARAMETERS\n",
        "  ==================\n",
        "  alpha = {bb1}\n",
        "  gamma = {bb2}\n",
        "  epsilon = {bb3}\n",
        "\n",
        "  MORE DETAILS\n",
        "  =========\n",
        "  state space = {b7}\n",
        "  action space = {b8}\n",
        "\n",
        "  LOGS\n",
        "  ======\n",
        "  may be add logs if required (later)\n",
        "\n",
        "  \"\"\".format(iterations,stepSize\n",
        "  ,b1 = behavior.nNutrients,b2 = behavior.stateSlicer,b3 = behavior.actionSlicer\n",
        "  ,b4 = behavior.stm.shape,b5 = len(behavior.stateSet),b6 = len(behavior.actionSet)\n",
        "  ,b7 = behavior.stateSet,b8 = behavior.actionSet\n",
        "  ,g1 = gut.gc,g2 = gut.dc,g3 = gut.K,g4 = gut.contribution\n",
        "  ,bb1 = brain.alpha,bb2 = brain.gamma, bb3 = brain.epsilon\n",
        "  ,dt = dt_string\n",
        "  )\n",
        "\n",
        "  with open(folder+\"parameters.txt\", \"a\") as file:\n",
        "      file.write(params)\n"
      ],
      "execution_count": 8,
      "outputs": [
        {
          "output_type": "stream",
          "text": [
            "created directory /content/gdrive/MyDrive/Colab Notebooks/simulations/exp1/\n"
          ],
          "name": "stdout"
        }
      ]
    },
    {
      "cell_type": "code",
      "metadata": {
        "id": "vNC0JckA0nZu",
        "colab": {
          "base_uri": "https://localhost:8080/",
          "height": 405
        },
        "outputId": "20554796-11c1-432d-e447-9c206059147c"
      },
      "source": [
        "#@title\n",
        "# one scatter plot for each bacterium population. \n",
        "# relevant to trace out the population evolution across timesteps.\n",
        "\n",
        "\n",
        "X = np.arange(len(gutPopHistory[plotN:,0]))\n",
        "fig,(ax1,ax2,ax3) = plt.subplots(1,3,sharex = True, sharey = True,figsize = (15,6))\n",
        "cm = plt.get_cmap(\"tab10\")\n",
        "\n",
        "ax1.scatter(X,gutPopHistory[plotN:,0],color = cm(0))\n",
        "ax2.scatter(X,gutPopHistory[plotN:,1],color = cm(1))\n",
        "ax3.scatter(X,gutPopHistory[plotN:,2],color = cm(2))\n",
        "\n",
        "ax1.set_ylabel(\"gut population\")\n",
        "ax1.set_xlabel(\"time\")\n",
        "ax2.set_xlabel(\"time\")\n",
        "ax3.set_xlabel(\"time\")\n",
        "\n",
        "fig.text(0.4,0.9,\"Individual gut bacteria population evolution\")\n",
        "if saveFig:\n",
        "  plt.savefig(folder+'scatter-per-bact-pop',bbox_inches = 'tight',format= fileFormat)"
      ],
      "execution_count": 9,
      "outputs": [
        {
          "output_type": "display_data",
          "data": {
            "image/png": "[encoded data removed]",
            "text/plain": [
              "<Figure size 1080x432 with 3 Axes>"
            ]
          },
          "metadata": {
            "tags": [],
            "needs_background": "light"
          }
        }
      ]
    },
    {
      "cell_type": "code",
      "metadata": {
        "id": "O14e6ncO0nZv",
        "colab": {
          "base_uri": "https://localhost:8080/",
          "height": 405
        },
        "outputId": "1634200a-8b22-4698-912d-899c06978ba7"
      },
      "source": [
        "# one scatter plot for each bacterium population. \n",
        "# relevant to trace out the population evolution across timesteps.\n",
        "\n",
        "\n",
        "X = np.arange(len(stateHistory[plotN:,0]))\n",
        "fig,(ax1,ax2,ax3) = plt.subplots(1,3,sharex = True, sharey = True,figsize = (15,6))\n",
        "cm = plt.get_cmap(\"tab10\")\n",
        "ax1.scatter(X,stateHistory[plotN:,0],color = cm(0))\n",
        "ax2.scatter(X[plotN:],stateHistory[plotN:,1],color = cm(1))\n",
        "ax3.scatter(X[plotN:],stateHistory[plotN:,2],color = cm(2))\n",
        "\n",
        "ax1.set_ylabel(\"cravings\")\n",
        "ax1.set_xlabel(\"time\")\n",
        "ax2.set_xlabel(\"time\")\n",
        "ax3.set_xlabel(\"time\")\n",
        "\n",
        "fig.text(0.4,0.9,\"Individual state history\")\n",
        "if saveFig:\n",
        "  plt.savefig(folder+'scatter-state',bbox_inches = 'tight',format= fileFormat)"
      ],
      "execution_count": 10,
      "outputs": [
        {
          "output_type": "display_data",
          "data": {
            "image/png": "[encoded data removed]",
            "text/plain": [
              "<Figure size 1080x432 with 3 Axes>"
            ]
          },
          "metadata": {
            "tags": [],
            "needs_background": "light"
          }
        }
      ]
    },
    {
      "cell_type": "code",
      "metadata": {
        "id": "iThSJ8TL0nZw",
        "colab": {
          "base_uri": "https://localhost:8080/",
          "height": 295
        },
        "outputId": "74264dce-5212-44a5-c598-8347d37516e4"
      },
      "source": [
        "   # plotted the maximum of the three gut bacterial populations at each timestep\n",
        "\n",
        "cm = plt.get_cmap(\"tab10\")\n",
        "\n",
        "a = np.argmax(gutPopHistory[plotN:,:],axis = 1)\n",
        "b = np.max(gutPopHistory[plotN:,:],axis = 1)\n",
        "plt.scatter(range(len(a)),b,c = cm(a))\n",
        "plt.xlabel(\"time\")\n",
        "plt.ylabel(\"gut population\")\n",
        "plt.title(\"inidividual gut population of each bacterium with time\")\n",
        "if saveFig:\n",
        "  plt.savefig(folder+'max-gut-pop-per-timestep',bbox_inches = 'tight',figsize = (20,20),format= fileFormat)"
      ],
      "execution_count": 11,
      "outputs": [
        {
          "output_type": "display_data",
          "data": {
            "image/png": "[encoded data removed]",
            "text/plain": [
              "<Figure size 432x288 with 1 Axes>"
            ]
          },
          "metadata": {
            "tags": [],
            "needs_background": "light"
          }
        }
      ]
    },
    {
      "cell_type": "code",
      "metadata": {
        "id": "1EKMSyN60nZw",
        "colab": {
          "base_uri": "https://localhost:8080/",
          "height": 1000
        },
        "outputId": "bd69a1f8-4de6-4287-ea5b-84c0b3224906"
      },
      "source": [
        "# Qtable heat map\n",
        "\n",
        "\n",
        "nstates = len(behavior.stateSet)\n",
        "nactions = len(behavior.actionSet)\n",
        "expansion = 0.5*nstates//nactions\n",
        "\n",
        "\n",
        "actions = behavior.actionSet\n",
        "states = [behavior.stateSet[int(i)] for i in np.linspace(0,nstates,behavior.stateSlicer+1)[:-1]]\n",
        "\n",
        "fig,ax = plt.subplots(1,1,figsize = (20,20))\n",
        "ax.imshow(np.repeat(brain.qTable,expansion,1))\n",
        "\n",
        "ax.set_xticks(np.linspace(0,nactions*expansion-1,nactions+1))\n",
        "ax.set_xticklabels(actions,rotation = 45,fontsize = 6)\n",
        "\n",
        "ax.set_yticks(np.linspace(0,nstates,behavior.stateSlicer+1))\n",
        "ax.set_yticklabels(states,rotation = 90,fontsize = 6)\n",
        "\n",
        "ax.set_xlabel(\"actions\")\n",
        "ax.set_ylabel(\"states\")\n",
        "\n",
        "if saveFig:\n",
        "  plt.savefig(folder+'qtable',bbox_inches = 'tight',format = fileFormat)"
      ],
      "execution_count": 17,
      "outputs": [
        {
          "output_type": "display_data",
          "data": {
            "image/png": "[encoded data removed]",
            "text/plain": [
              "<Figure size 1440x1440 with 1 Axes>"
            ]
          },
          "metadata": {
            "tags": [],
            "needs_background": "light"
          }
        }
      ]
    },
    {
      "cell_type": "code",
      "metadata": {
        "id": "PfvMVI5c0nZx"
      },
      "source": [
        ""
      ],
      "execution_count": 12,
      "outputs": []
    },
    {
      "cell_type": "code",
      "metadata": {
        "id": "-x7xSCNB0nZx",
        "colab": {
          "base_uri": "https://localhost:8080/",
          "height": 211
        },
        "outputId": "9fe98cff-ab5c-42f8-d6b8-513f9db11cfb"
      },
      "source": [
        "# Behavior history for each bacterium - whether the bacteria received the nutrient or not. \n",
        "# yellow represents higher values (or presence od nutrient to the bacteria)\n",
        "# width of heat map = \n",
        "import numpy as np\n",
        "a = behaviorHistory\n",
        "height = int(0.5*len(behavior.stateSet)//len(behavior.actionSet)) #height of the heat map\n",
        "\n",
        "fig,(ax1,ax2,ax3) = plt.subplots(1,3,sharey = True,sharex = True,figsize = (15,10))\n",
        "ax1.imshow(np.tile(a[plotN:,0],(height,1)))\n",
        "ax2.imshow(np.tile(a[plotN:,1],(height,1)))\n",
        "ax3.imshow(np.tile(a[plotN:,2],(height,1)))\n",
        "ax1.set_xticklabels([])\n",
        "ax2.set_yticklabels([])\n",
        "ax1.set_title(\"nutrient 1\")\n",
        "ax2.set_title(\"nutrient 2\")\n",
        "ax3.set_title(\"nutrient 3\")\n",
        "plt.subplots_adjust(wspace=None, hspace=None)\n",
        "fig.text(0.3,0.3,\"time steps (whether with time, nutrients were being ingested or not?)\")\n",
        "if saveFig:\n",
        "  plt.savefig(folder+'nutrient-behavior',bbox_inches = 'tight',format= fileFormat)"
      ],
      "execution_count": 18,
      "outputs": [
        {
          "output_type": "display_data",
          "data": {
            "image/png": "[encoded data removed]",
            "text/plain": [
              "<Figure size 1080x720 with 3 Axes>"
            ]
          },
          "metadata": {
            "tags": [],
            "needs_background": "light"
          }
        }
      ]
    },
    {
      "cell_type": "code",
      "metadata": {
        "id": "FyXDJ9090nZy",
        "colab": {
          "base_uri": "https://localhost:8080/",
          "height": 279
        },
        "outputId": "24f6d531-3123-4dd6-b0d9-aa4fb0ac93dc"
      },
      "source": [
        "# plotting reward history\n",
        "\n",
        "plt.scatter(range(len(rewardHistory)),rewardHistory)\n",
        "plt.xlabel(\"time\")\n",
        "plt.ylabel(\"normalized reward\")\n",
        "if saveFig:\n",
        "  plt.savefig(folder+'reward',bbox_inches = 'tight',format= fileFormat)\n",
        "        "
      ],
      "execution_count": 19,
      "outputs": [
        {
          "output_type": "display_data",
          "data": {
            "image/png": "[encoded data removed]",
            "text/plain": [
              "<Figure size 432x288 with 1 Axes>"
            ]
          },
          "metadata": {
            "tags": [],
            "needs_background": "light"
          }
        }
      ]
    },
    {
      "cell_type": "code",
      "metadata": {
        "id": "YukFtpKG0nZy",
        "colab": {
          "base_uri": "https://localhost:8080/",
          "height": 295
        },
        "outputId": "67d87c19-58fc-4f94-e942-9e366487076e"
      },
      "source": [
        "# Gut population stacked bar chart\n",
        "# this one is pretty expensive chart, run it only with small datasets.\n",
        "X = np.arange(len(gutPopHistory[plotN:,0]))\n",
        "plt.bar(X,gutPopHistory[plotN:,0])\n",
        "plt.bar(X,gutPopHistory[plotN:,1],bottom = gutPopHistory[plotN:,0])\n",
        "plt.bar(X,gutPopHistory[plotN:,2],bottom = np.sum(gutPopHistory[plotN:,:2],axis = 1))\n",
        "plt.xlabel(\"time\")\n",
        "plt.ylabel(\"gut population\")\n",
        "plt.title(\"stacked gut population\")\n",
        "if saveFig:\n",
        "  plt.savefig(folder+'stacked-bar-gut-pop',bbox_inches = 'tight',format= fileFormat)\n"
      ],
      "execution_count": 20,
      "outputs": [
        {
          "output_type": "display_data",
          "data": {
            "image/png": "[encoded data removed]",
            "text/plain": [
              "<Figure size 432x288 with 1 Axes>"
            ]
          },
          "metadata": {
            "tags": [],
            "needs_background": "light"
          }
        }
      ]
    },
    {
      "cell_type": "code",
      "metadata": {
        "id": "UXY9i39N0nZz"
      },
      "source": [
        ""
      ],
      "execution_count": null,
      "outputs": []
    },
    {
      "cell_type": "code",
      "metadata": {
        "id": "EIhkZU8dB-Sy"
      },
      "source": [
        ""
      ],
      "execution_count": null,
      "outputs": []
    }
  ]
}