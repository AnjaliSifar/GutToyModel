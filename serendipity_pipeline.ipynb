{
  "nbformat": 4,
  "nbformat_minor": 0,
  "metadata": {
    "language_info": {
      "codemirror_mode": {
        "name": "ipython",
        "version": 3
      },
      "file_extension": ".py",
      "mimetype": "text/x-python",
      "name": "python",
      "nbconvert_exporter": "python",
      "pygments_lexer": "ipython3",
      "version": "3.7.3-final"
    },
    "orig_nbformat": 2,
    "kernelspec": {
      "name": "python3",
      "display_name": "Python 3.7.3 64-bit ('base': conda)",
      "metadata": {
        "interpreter": {
          "hash": "171b8712bf02bf9c30074648b83b9be1182d95d56d650742018a2c7e5290d606"
        }
      }
    },
    "colab": {
      "name": "serendipity-pipeline.ipynb",
      "provenance": [],
      "collapsed_sections": [],
      "include_colab_link": true
    }
  },
  "cells": [
    {
      "cell_type": "markdown",
      "metadata": {
        "id": "view-in-github",
        "colab_type": "text"
      },
      "source": [
        "<a href=\"https://colab.research.google.com/github/AnjaliSifar/GutToyModel/blob/ashwinramaswamy92-patch-1/serendipity_pipeline.ipynb\" target=\"_parent\"><img src=\"https://colab.research.google.com/assets/colab-badge.svg\" alt=\"Open In Colab\"/></a>"
      ]
    },
    {
      "cell_type": "markdown",
      "metadata": {
        "id": "EivEUxP-XXLq"
      },
      "source": [
        "# **Generic code**"
      ]
    },
    {
      "cell_type": "code",
      "metadata": {
        "id": "ZiHrcf9h0nZf"
      },
      "source": [
        "#@title\n",
        "import numpy as np\n",
        "import matplotlib.pyplot as plt\n",
        "from itertools import product\n",
        "import random\n",
        "import time\n",
        "from tqdm import tqdm\n",
        "\n",
        "from datetime import datetime\n",
        "import os,errno\n",
        "from google.colab import drive\n",
        "\n",
        "# drive.mount('/content/gdrive')\n"
      ],
      "execution_count": 1,
      "outputs": []
    },
    {
      "cell_type": "code",
      "metadata": {
        "id": "xxnitihqPdl8"
      },
      "source": [
        "#@title\n",
        "def createDir(dir):\n",
        "  try:\n",
        "      os.mkdir(dir)\n",
        "      print(\"created directory\",dir)\n",
        "  except OSError as e:\n",
        "      if e.errno == errno.EEXIST:\n",
        "          print('Directory ',dir,'already exists.')\n",
        "      else:\n",
        "          raise  "
      ],
      "execution_count": 2,
      "outputs": []
    },
    {
      "cell_type": "code",
      "metadata": {
        "id": "1IuGXft_0nZt"
      },
      "source": [
        "#@title\n",
        "def writeParameters():\n",
        "  if saveFig:\n",
        "    now = datetime.now()\n",
        "    dt_string = now.strftime(\"%d/%m/%Y %H:%M:%S\")\n",
        "\n",
        "    createDir(folder)\n",
        "    \n",
        "    params = \"\"\" \n",
        "    =======================================================================================================================\n",
        "    SIMULATION RAN ON : {dt}\n",
        "    =======================================================================================================================\n",
        "    number of iterations = {0}\n",
        "    first slice for graph plotting, plotN = {1}\n",
        "    step size, history recorded at every step size  = {2}\n",
        "    \n",
        "    \n",
        "    BEHAVIOUR PARAMETERS \n",
        "    ---------------------\n",
        "    # nutrients = {b1}\n",
        "    state slicer = {b2}\n",
        "    action slicer = {b3}\n",
        "    shapes of stm, state space, action space = {b4},{b5},{b6}\n",
        "\n",
        "\n",
        "    GUT PARAMETERS\n",
        "    ----------------\n",
        "    Growth constant = {g1}\n",
        "    Decay constant = {g2}\n",
        "    K = {g3}\n",
        "    per bacteria contribution = {g4}\n",
        "\n",
        "    BRAIN PARAMETERS\n",
        "    ------------------\n",
        "    alpha = {bb1}\n",
        "    gamma = {bb2}\n",
        "    epsilon = {bb3}\n",
        "\n",
        "    \"\"\".format(iterations,plotN,stepSize\n",
        "    ,b1 = behavior.nNutrients,b2 = behavior.stateSlicer,b3 = behavior.actionSlicer\n",
        "    ,b4 = behavior.stm.shape,b5 = len(behavior.stateSet),b6 = len(behavior.actionSet)\n",
        "    ,b7 = behavior.stateSet,b8 = behavior.actionSet\n",
        "    ,g1 = gut.gc,g2 = gut.dc,g3 = gut.K,g4 = gut.contribution\n",
        "    ,bb1 = brain.alpha,bb2 = brain.gamma, bb3 = brain.epsilon\n",
        "    ,dt = dt_string\n",
        "    )\n",
        "\n",
        "    with open(folder+\"parameters.txt\", \"a\") as file:\n",
        "        file.write(params)\n"
      ],
      "execution_count": 3,
      "outputs": []
    },
    {
      "cell_type": "markdown",
      "metadata": {
        "id": "NAdLqw1NXhMX"
      },
      "source": [
        "# **System**"
      ]
    },
    {
      "cell_type": "code",
      "metadata": {
        "id": "67dahBXa0nZj"
      },
      "source": [
        "#@title\n",
        "   \n",
        "class Brain:\n",
        "    def __init__(self, behavior, **kwargs):\n",
        "\n",
        "        # Params\n",
        "        self.alpha = kwargs.get('alpha', 0.1)\n",
        "        self.gamma = kwargs.get('gamma', 0.05)\n",
        "        self.epsilon = kwargs.get('epsilon', 0.1)\n",
        "        \n",
        "        self.time = kwargs.get('time', 1)  #for debugging\n",
        "\n",
        "        # for convenience\n",
        "        self.nActions = len(behavior.actionSet)\n",
        "        self.nStates = len(behavior.stateSet)\n",
        "\n",
        "        # To be computed\n",
        "        self.qTable = np.zeros((self.nStates,self.nActions))\n",
        "        self.oStateInd = behavior.stateInd\n",
        "        self.oActionInd = None\n",
        "\n",
        "\n",
        "    def do(self,stateInd):\n",
        "        self.oStateInd= stateInd\n",
        "        if(np.random.random() > self.epsilon):\n",
        "            actionInd = self.exploit(stateInd)\n",
        "        else:\n",
        "            actionInd = self.explore()\n",
        "\n",
        "        self.oActionInd = actionInd\n",
        "        return self.oActionInd\n",
        "\n",
        "        \n",
        "\n",
        "    def learn(self,newstate, reward):\n",
        "        \n",
        "        old_q = self.qTable[self.oStateInd,self.oActionInd]\n",
        "        maxFutureQ = max(self.qTable[newstate, :])\n",
        "\n",
        "        self.qTable[self.oStateInd, self.oActionInd] = old_q + self.alpha*(reward +                 self.gamma*maxFutureQ - old_q)\n",
        "\n",
        "# For debugging only\n",
        "        # delta = self.qTable[self.oStateInd, self.oActionInd] - old_q\n",
        "        # if self.time%100 == 0:\n",
        "        #     print(\"\"\" delta = {0:.4f} , old q= {1:.3f}, new q = {2:.3f}\n",
        "        #         \"\"\".format(delta,old_q,self.qTable[self.oldStateIndex, self.oldActionIndex]))\n",
        "\n",
        "        \n",
        "           \n",
        "    def exploit(self,stateInd):\n",
        "        possibleActionValues = self.qTable[stateInd, :]\n",
        "        maxActionInd = np.where(possibleActionValues == max(possibleActionValues))[0]\n",
        "        return np.random.choice(maxActionInd)\n",
        "        \n",
        "        \n",
        "    def explore(self):\n",
        "        return np.random.choice(range(self.nActions))"
      ],
      "execution_count": 4,
      "outputs": []
    },
    {
      "cell_type": "code",
      "metadata": {
        "tags": [],
        "id": "S9WO0fiJ0nZl"
      },
      "source": [
        "#@title\n",
        "class Behavior:\n",
        "    def __init__(self,initState=None,nNutrients = 3, **kwargs):\n",
        "\n",
        "\n",
        "        self.nNutrients = nNutrients\n",
        "\n",
        "# Create state and action sets\n",
        "        self.stateSlicer =  kwargs.get('stateSlicer',5)\n",
        "        self.actionSlicer =  kwargs.get('actionSlicer', 2)\n",
        "\n",
        "        tempState = np.linspace(0, 1, self.stateSlicer).round(2)\n",
        "        #to include space for each nutrient, dynamically add state space for each nutrient\n",
        "        tempList = np.tile(tempState,(nNutrients,1)) \n",
        "        self.stateSet = list(product(*tempList)) \n",
        "        \n",
        "        temp_t = tempState[1]-tempState[0]\n",
        "        tempAction = np.linspace(-temp_t,temp_t,self.actionSlicer)\n",
        "        tempList = np.tile(tempAction,(nNutrients,1)) \n",
        "        self.actionSet = list(product(*tempList))\n",
        "\n",
        "\n",
        "        if not initState:\n",
        "            self.stateInd = np.random.choice(range(len(self.stateSet)))\n",
        "            print(\"\"\"randomly initialised to {0} state\"\"\".format(self.stateSet[self.stateInd]))\n",
        "        else:\n",
        "            state =  initState   #Initializing\n",
        "            self.stateInd = self.findStateIndex(state)\n",
        "            print(\"\"\"initialised to  {0}\"\"\".format(state))\n",
        "\n",
        "\n",
        "        self.stm = np.zeros((len(self.stateSet), len(self.actionSet)))\n",
        "        self.computeStateTransitions()\n",
        "\n",
        "\n",
        "        self.output = np.zeros((self.nNutrients))\n",
        "\n",
        "\n",
        "    def computeStateTransitions(self):\n",
        "        tic = time.perf_counter()\n",
        "\n",
        "        for (si,_),(ai,_) in product(enumerate(self.stateSet),enumerate(self.actionSet)):\n",
        "            nsi = self.updateState(si,ai) \n",
        "            self.stm[si,ai] = nsi\n",
        "        toc = time.perf_counter()\n",
        "\n",
        "        print(\"\"\"total time to compute state transition matrix = {0:.2f} seconds\"\"\".format(toc-tic))\n",
        "\n",
        "\n",
        "    def findStateIndex(self,s):\n",
        "        return np.where((self.stateSet == s).all(axis=1))[0][0]           \n",
        "\n",
        "\n",
        "    def updateState(self,si,ai):\n",
        "        s = self.stateSet[si]\n",
        "        a = self.actionSet[ai]\n",
        "        #new state defined by behavior based upon action chosen by brain\n",
        "        ns = np.clip(np.array(s)+np.array(a),0,1).round(2) \n",
        "        ind = self.findStateIndex(ns)\n",
        "        return ind\n",
        "\n",
        "    def ingestNutrients(self):\n",
        "        self.output = np.random.binomial(1,self.stateSet[self.stateInd])\n",
        "\n"
      ],
      "execution_count": 5,
      "outputs": []
    },
    {
      "cell_type": "code",
      "metadata": {
        "id": "4YBoOoEq0nZo"
      },
      "source": [
        "#@title\n",
        "class Gut:\n",
        "    def __init__(self,initPop = None,nBacteria = 3,**kwargs):\n",
        "        \n",
        "\n",
        "        self.nBacteria = nBacteria\n",
        "        self.pop = np.random.choice(np.arange(100,200),self.nBacteria)\n",
        "\n",
        "        self.gc = kwargs.get('gc',0.1)\n",
        "        self.dc = kwargs.get('dc',0.1)\n",
        "        self.K = kwargs.get('K',25000)\n",
        "        self.contribution = kwargs.get('contribution',np.ones((nBacteria)))\n",
        "        self.interdependancy = np.array([[0, 0],[0, 0]])\n",
        "        self.tempPop = np.zeros(self.nBacteria) \n",
        "        #interdependancy[i, j] is the multiplier \n",
        "\n",
        "    ## Population-based implementation\n",
        "    def updatePopulation(self, nutrients):\n",
        "\n",
        "        self.pop = self.pop*(1+self.gc*nutrients - self.pop*self.dc/self.K)\n",
        "\n",
        "        #Now, grow or shrink additionally, based on the rest of the populations\n",
        "        for i in range(len(self.pop)):\n",
        "          for j in range(len(self.pop)):\n",
        "            if(i != j):\n",
        "              self.tempPop[i] = self.pop[i] + self.pop[j]*self.interdependancy[i, j]\n",
        "              if(self.tempPop[i]< 0):\n",
        "                self.tempPop[i] = 0\n",
        "\n",
        "        self.pop = self.tempPop\n",
        "\n",
        "    def generateReward(self,nutrients):\n",
        "\n",
        "        self.reward = np.sum(self.pop*self.contribution*nutrients)\n",
        "        self.reward = self.reward/(self.gc*self.K/self.dc)\n",
        "    \n",
        "    def penalisePopulation(self, nutrientID, penalty):\n",
        "\n",
        "        self.reward = self.reward - penalty*self.pop[nutrientID]/(self.gc*self.K/self.dc)"
      ],
      "execution_count": 6,
      "outputs": []
    },
    {
      "cell_type": "code",
      "metadata": {
        "colab": {
          "base_uri": "https://localhost:8080/"
        },
        "id": "-gAi9_Fpt2ND",
        "outputId": "f290c78c-e0d4-471c-b6d3-7e1b03fddae3"
      },
      "source": [
        "gut.pop"
      ],
      "execution_count": null,
      "outputs": [
        {
          "output_type": "execute_result",
          "data": {
            "text/plain": [
              "array([112.9948924, 185.8264576])"
            ]
          },
          "metadata": {
            "tags": []
          },
          "execution_count": 108
        }
      ]
    },
    {
      "cell_type": "markdown",
      "metadata": {
        "id": "V_nTSdMXWgMV"
      },
      "source": [
        "# configure before running the simulation"
      ]
    },
    {
      "cell_type": "code",
      "metadata": {
        "id": "z_5lyNxg0nZp",
        "colab": {
          "base_uri": "https://localhost:8080/"
        },
        "outputId": "ac0bbdd5-4dff-4d8a-f1ee-11ea833c4188"
      },
      "source": [
        "base_dir = 'simulations/'\n",
        "createDir(base_dir)\n",
        "\n",
        "#change these for every experiment \n",
        "folder = base_dir+'exp4/' \n",
        "saveFig = True\n",
        "fileFormat ='png'\n",
        "plotN = 0 #this variable picks the last \"plotN\" history for plotting \n",
        "\n",
        "nutrientCount = 2   #Change this to change number of nutrients/populations\n",
        "\n",
        "\n"
      ],
      "execution_count": 7,
      "outputs": [
        {
          "output_type": "stream",
          "text": [
            "Directory  simulations/ already exists.\n"
          ],
          "name": "stdout"
        }
      ]
    },
    {
      "cell_type": "markdown",
      "metadata": {
        "id": "x8PdSZVVV1JV"
      },
      "source": [
        "**run simulation**"
      ]
    },
    {
      "cell_type": "code",
      "metadata": {
        "tags": [],
        "id": "HEA_vT1c0nZq",
        "cellView": "form",
        "colab": {
          "base_uri": "https://localhost:8080/"
        },
        "outputId": "52fb18c8-7020-429c-f753-49a7cae27b7c"
      },
      "source": [
        "# %%time\n",
        "\n",
        "# instead of recording system state at fixed intervals, we can also record history at random timesteps\n",
        "# randSel = np.random.randint(0,iterations,n)\n",
        "# randSel.sort()\n",
        "\n",
        "\n",
        "\n",
        "# behavior = Behavior(nNutrients = nutrientCount,stateSlicer = 6,actionSlicer = 2)\n",
        "# brain = Brain(behavior)\n",
        "# # brain.alpha = 0.99\n",
        "# gut = Gut(nBacteria = nutrientCount)\n",
        "\n",
        "# gut.gc = 0.01\n",
        "# gut.dc = 0.01\n",
        "# gut.contribution = np.array([1, 1])\n",
        "# gut.interdependancy = np.array([[0, -1],[0, 0]])\n",
        "\n",
        "nrows = 2 if nutrientCount > 3 else 1 # change this if nutirents are more than 4\n",
        "ncols = nutrientCount//nrows\n",
        "\n",
        "stepSize = 100\n",
        "iterations = 10000\n",
        "reps = 5\n",
        "\n",
        "\n",
        "n = iterations//stepSize\n",
        "\n",
        "behaviorHistoryMean = np.zeros((iterations//stepSize,nutrientCount, reps))\n",
        "gutPopHistoryMean = np.zeros((iterations//stepSize,nutrientCount, reps))\n",
        "rewardHistoryMean = np.zeros((iterations//stepSize, reps))\n",
        "stateHistoryMean = np.zeros((n,nutrientCount, reps))\n",
        "actionHistoryMean = np.zeros((n,nutrientCount, reps))\n",
        "\n",
        "for r in range(reps):\n",
        "  behavior = Behavior(nNutrients = nutrientCount,stateSlicer = 6,actionSlicer = 2)\n",
        "  brain = Brain(behavior)\n",
        "  # brain.alpha = 0.99\n",
        "  gut = Gut(nBacteria = nutrientCount)\n",
        "  n = iterations//stepSize\n",
        "  gut.gc = 0.01\n",
        "  gut.dc = 0.01\n",
        "  gut.contribution = np.array([1, 10**(-50)])\n",
        "  gut.interdependancy = np.array([[0, -10**(-10)],[0, 0]])\n",
        "  # gut.interdependancy = np.array([[0, -0.001],[0, 0]])\n",
        "\n",
        "\n",
        "  behaviorHistory = np.zeros((iterations//stepSize,behavior.nNutrients))\n",
        "  gutPopHistory = np.zeros((iterations//stepSize,gut.nBacteria))\n",
        "  rewardHistory = np.zeros((iterations//stepSize))\n",
        "  stateHistory = np.zeros((n,behavior.nNutrients))\n",
        "  actionHistory = np.zeros((n,behavior.nNutrients))\n",
        "  idx=0\n",
        "  for t in tqdm(range(iterations)):\n",
        "      \n",
        "\n",
        "      # find best possible action in brain using RL\n",
        "      actionInd = brain.do(behavior.stateInd)\n",
        "      \n",
        "      # update behavior state as a result of action chosen by brain\n",
        "      oldInd = behavior.stateInd\n",
        "      newStateInd = behavior.updateState(behavior.stateInd,actionInd)\n",
        "      behavior.stateInd = newStateInd\n",
        "\n",
        "      #find the reward elicited by gut\n",
        "      behavior.ingestNutrients()\n",
        "      gut.generateReward(behavior.output)    \n",
        "      gut.penalisePopulation(0, 5)\n",
        "      gut.updatePopulation(behavior.output)\n",
        "      \n",
        "      brain.learn(newStateInd,gut.reward)\n",
        "      brain.time = t\n",
        "\n",
        "      if t%100 ==0:\n",
        "          brain.epsilon*=0.99\n",
        "\n",
        "      if t%stepSize==0:\n",
        "          behaviorHistory[idx] = behavior.output\n",
        "          gutPopHistory[idx] = gut.pop\n",
        "          rewardHistory[idx] = gut.reward\n",
        "          stateHistory[idx] = behavior.stateSet[oldInd]\n",
        "          actionHistory[idx] = behavior.actionSet[actionInd]\n",
        "\n",
        "          idx+=1\n",
        "\n",
        "      # if idx<n and t==randSel[idx] :\n",
        "      #     behaviorHistory[idx] = behavior.output\n",
        "      #     gutPopHistory[idx] = gut.pop\n",
        "      #     rewardHistory[idx] = gut.reward\n",
        "      #     stateHistory[idx] = behavior.stateSet[behavior.stateInd]\n",
        "      #     idx+=1\n",
        "\n",
        "  writeParameters()\n",
        "  behaviorHistoryMean[:, :, r] = behaviorHistory\n",
        "  gutPopHistoryMean[:, :, r] = gutPopHistory\n",
        "  rewardHistoryMean[:, r] = rewardHistory\n",
        "  stateHistoryMean[:, :, r] = stateHistory\n",
        "  actionHistoryMean[:, :, r] = actionHistory"
      ],
      "execution_count": 37,
      "outputs": [
        {
          "output_type": "stream",
          "text": [
            "  5%|▍         | 487/10000 [00:00<00:01, 4859.96it/s]"
          ],
          "name": "stderr"
        },
        {
          "output_type": "stream",
          "text": [
            "randomly initialised to (0.8, 0.8) state\n",
            "total time to compute state transition matrix = 0.01 seconds\n"
          ],
          "name": "stdout"
        },
        {
          "output_type": "stream",
          "text": [
            "100%|██████████| 10000/10000 [00:02<00:00, 4333.64it/s]\n",
            "  4%|▎         | 362/10000 [00:00<00:02, 3616.55it/s]"
          ],
          "name": "stderr"
        },
        {
          "output_type": "stream",
          "text": [
            "Directory  simulations/exp4/ already exists.\n",
            "randomly initialised to (0.0, 0.6) state\n",
            "total time to compute state transition matrix = 0.02 seconds\n"
          ],
          "name": "stdout"
        },
        {
          "output_type": "stream",
          "text": [
            "100%|██████████| 10000/10000 [00:02<00:00, 4292.75it/s]\n",
            "  4%|▍         | 385/10000 [00:00<00:02, 3840.28it/s]"
          ],
          "name": "stderr"
        },
        {
          "output_type": "stream",
          "text": [
            "Directory  simulations/exp4/ already exists.\n",
            "randomly initialised to (0.0, 0.2) state\n",
            "total time to compute state transition matrix = 0.01 seconds\n"
          ],
          "name": "stdout"
        },
        {
          "output_type": "stream",
          "text": [
            "100%|██████████| 10000/10000 [00:02<00:00, 4223.53it/s]\n",
            "  4%|▍         | 383/10000 [00:00<00:02, 3828.13it/s]"
          ],
          "name": "stderr"
        },
        {
          "output_type": "stream",
          "text": [
            "Directory  simulations/exp4/ already exists.\n",
            "randomly initialised to (1.0, 0.6) state\n",
            "total time to compute state transition matrix = 0.01 seconds\n"
          ],
          "name": "stdout"
        },
        {
          "output_type": "stream",
          "text": [
            "100%|██████████| 10000/10000 [00:02<00:00, 4375.54it/s]\n",
            "  4%|▍         | 428/10000 [00:00<00:02, 4278.34it/s]"
          ],
          "name": "stderr"
        },
        {
          "output_type": "stream",
          "text": [
            "Directory  simulations/exp4/ already exists.\n",
            "randomly initialised to (0.2, 1.0) state\n",
            "total time to compute state transition matrix = 0.01 seconds\n"
          ],
          "name": "stdout"
        },
        {
          "output_type": "stream",
          "text": [
            "100%|██████████| 10000/10000 [00:02<00:00, 4067.84it/s]"
          ],
          "name": "stderr"
        },
        {
          "output_type": "stream",
          "text": [
            "Directory  simulations/exp4/ already exists.\n"
          ],
          "name": "stdout"
        },
        {
          "output_type": "stream",
          "text": [
            "\n"
          ],
          "name": "stderr"
        }
      ]
    },
    {
      "cell_type": "code",
      "metadata": {
        "id": "7XX3kaOtqhwn"
      },
      "source": [
        "behaviorHistory = np.mean(behaviorHistoryMean, axis = 2)\n",
        "gutPopHistory = np.mean(gutPopHistoryMean, axis = 2)\n",
        "rewardHistory = np.mean(rewardHistoryMean, axis = 1)\n",
        "stateHistory = np.mean(stateHistoryMean, axis = 2)\n",
        "actionHistory = np.mean(actionHistoryMean, axis = 2)"
      ],
      "execution_count": 38,
      "outputs": []
    },
    {
      "cell_type": "code",
      "metadata": {
        "colab": {
          "base_uri": "https://localhost:8080/"
        },
        "id": "W7B8_SBTwmne",
        "outputId": "ede87975-aca5-4c86-ddd7-cc87a4d14657"
      },
      "source": [
        ""
      ],
      "execution_count": 14,
      "outputs": [
        {
          "output_type": "execute_result",
          "data": {
            "text/plain": [
              "array([[0, 0],\n",
              "       [0, 0]])"
            ]
          },
          "metadata": {
            "tags": []
          },
          "execution_count": 14
        }
      ]
    },
    {
      "cell_type": "markdown",
      "metadata": {
        "id": "oJIp0Q7-W0dY"
      },
      "source": [
        "# **Plots below**"
      ]
    },
    {
      "cell_type": "code",
      "metadata": {
        "id": "vNC0JckA0nZu",
        "colab": {
          "base_uri": "https://localhost:8080/",
          "height": 415
        },
        "outputId": "6f8b808f-7667-457c-8f36-b6d38db8fd5f"
      },
      "source": [
        "#@title\n",
        "# one scatter plot for each bacterium population. \n",
        "# relevant to trace out the population evolution across timesteps.\n",
        "\n",
        "\n",
        "X = np.arange(len(gutPopHistory[plotN:,0]))\n",
        "\n",
        "fig,ax = plt.subplots(nrows,ncols,sharex = True, sharey = True,figsize = (15,6))\n",
        "cm = plt.get_cmap(\"tab10\")\n",
        "ax = ax.ravel()\n",
        "\n",
        "for i in range(gut.nBacteria):\n",
        "  ax[i].scatter(X,gutPopHistory[plotN:,i],color = cm(i))\n",
        "  ax[i].set_ylabel(\"Gut population \" + \"(contribution = \" + str(gut.contribution[i]) + \")\", size = 'x-large')\n",
        "  ax[i].set_xlabel(\"time\", size = 'x-large')\n",
        "\n",
        "fig.text(0.4,0.9,\"Individual gut bacteria population evolution\", size = 'xx-large')\n",
        "\n",
        "if saveFig:\n",
        "  plt.savefig(folder+'scatter-per-bact-pop',bbox_inches = 'tight',format= fileFormat)"
      ],
      "execution_count": 39,
      "outputs": [
        {
          "output_type": "display_data",
          "data": {
            "image/png": "[encoded data removed]",
            "text/plain": [
              "<Figure size 1080x432 with 2 Axes>"
            ]
          },
          "metadata": {
            "tags": [],
            "needs_background": "light"
          }
        }
      ]
    },
    {
      "cell_type": "code",
      "metadata": {
        "colab": {
          "base_uri": "https://localhost:8080/"
        },
        "id": "RGmEKR3RCMYn",
        "outputId": "09a7f3dd-60be-4df3-9f21-39dc919c1f98"
      },
      "source": [
        "gutPopHistory[-1]"
      ],
      "execution_count": 40,
      "outputs": [
        {
          "output_type": "execute_result",
          "data": {
            "text/plain": [
              "array([23750.41049443, 14270.60126131])"
            ]
          },
          "metadata": {
            "tags": []
          },
          "execution_count": 40
        }
      ]
    },
    {
      "cell_type": "code",
      "metadata": {
        "id": "O14e6ncO0nZv",
        "colab": {
          "base_uri": "https://localhost:8080/",
          "height": 415
        },
        "outputId": "fa33237a-0e5d-451b-a692-b26bf5b1c554"
      },
      "source": [
        "#@title\n",
        "# one scatter plot for state history. \n",
        "# relevant to trace out the population evolution across timesteps.\n",
        "\n",
        "\n",
        "X = np.arange(len(stateHistory[plotN:,0]))\n",
        "fig,ax = plt.subplots(nrows,ncols,sharex = True, sharey = True,figsize = (15,6))\n",
        "cm = plt.get_cmap(\"tab10\")\n",
        "ax = ax.ravel()\n",
        "\n",
        "for i in range(gut.nBacteria):\n",
        "  ax[i].scatter(X,stateHistory[plotN:,i],color = cm(i))\n",
        "  ax[i].set_ylabel(\"P(nutrient)\", size = 'x-large')\n",
        "  ax[i].set_xlabel(\"time\", size = 'x-large')\n",
        "\n",
        "fig.text(0.4,0.9,\"Individual state history\", size = 'xx-large')\n",
        "if saveFig:\n",
        "  plt.savefig(folder+'scatter-state',bbox_inches = 'tight',format= fileFormat)"
      ],
      "execution_count": null,
      "outputs": [
        {
          "output_type": "display_data",
          "data": {
            "image/png": "[encoded data removed]",
            "text/plain": [
              "<Figure size 1080x432 with 2 Axes>"
            ]
          },
          "metadata": {
            "tags": [],
            "needs_background": "light"
          }
        }
      ]
    },
    {
      "cell_type": "code",
      "metadata": {
        "id": "FyXDJ9090nZy",
        "cellView": "form",
        "colab": {
          "base_uri": "https://localhost:8080/",
          "height": 279
        },
        "outputId": "0513786d-83aa-459c-9148-ed7de5cca30f"
      },
      "source": [
        "#@title\n",
        "# plotting reward history\n",
        "\n",
        "plt.scatter(range(len(rewardHistory)),rewardHistory)\n",
        "plt.xlabel(\"time\")\n",
        "plt.ylabel(\"normalized reward\")\n",
        "if saveFig:\n",
        "  plt.savefig(folder+'reward',bbox_inches = 'tight',format= fileFormat)\n",
        "        "
      ],
      "execution_count": null,
      "outputs": [
        {
          "output_type": "display_data",
          "data": {
            "image/png": "[encoded data removed]",
            "text/plain": [
              "<Figure size 432x288 with 1 Axes>"
            ]
          },
          "metadata": {
            "tags": [],
            "needs_background": "light"
          }
        }
      ]
    },
    {
      "cell_type": "code",
      "metadata": {
        "id": "-x7xSCNB0nZx",
        "cellView": "form",
        "colab": {
          "base_uri": "https://localhost:8080/",
          "height": 703
        },
        "outputId": "3d8bbb4e-10a5-48f7-c2a4-c5171558dab3"
      },
      "source": [
        "#@title\n",
        "# Behavior history for each bacterium - whether the bacteria received the nutrient or not. \n",
        "# yellow represents higher values (or presence of nutrient to the bacteria)\n",
        "# width of heat map = \n",
        "nrow = 2; ncol = gut.nBacteria//nrow\n",
        "\n",
        "a = behaviorHistory\n",
        "height = int(0.9*len(behavior.stateSet)//len(behavior.actionSet)) #height of the heat map\n",
        "# height = int(len(behavior.stateSet)//2)\n",
        "fig,ax = plt.subplots(nrow,ncol,sharey = True,sharex = True,figsize = (50,50))\n",
        "ax = ax.ravel()\n",
        "\n",
        "for i in range(gut.nBacteria):\n",
        "  ax[i].imshow(np.tile(a[plotN:,i],(height,1)))\n",
        "  ax[i].set_xticklabels([])\n",
        "  ax[i].set_yticklabels([])\n",
        "  ax[i].set_title(\"nutrient \"+str(i+1))\n",
        "fig.text(0.3,0.3,\"time steps (whether with time, nutrients were being ingested or not?)\")\n",
        "if saveFig:\n",
        "  plt.savefig(folder+'nutrient-behavior',bbox_inches = 'tight',format= fileFormat)"
      ],
      "execution_count": null,
      "outputs": [
        {
          "output_type": "display_data",
          "data": {
            "image/png": "[encoded data removed]",
            "text/plain": [
              "<Figure size 3600x3600 with 2 Axes>"
            ]
          },
          "metadata": {
            "tags": [],
            "needs_background": "light"
          }
        }
      ]
    },
    {
      "cell_type": "code",
      "metadata": {
        "id": "1EKMSyN60nZw",
        "colab": {
          "base_uri": "https://localhost:8080/",
          "height": 1000
        },
        "outputId": "aa15df54-134e-4b91-ec41-6b255ac89f42"
      },
      "source": [
        "#@title\n",
        "# Qtable heat map\n",
        "\n",
        "\n",
        "nstates = len(behavior.stateSet)\n",
        "nactions = len(behavior.actionSet)\n",
        "expansion = 0.5*nstates//nactions\n",
        "\n",
        "\n",
        "actions = behavior.actionSet\n",
        "states = [behavior.stateSet[int(i)] for i in np.linspace(0,nstates,behavior.stateSlicer+1)[:-1]]\n",
        "\n",
        "fig,ax = plt.subplots(1,1,figsize = (20,20))\n",
        "ax.imshow(np.repeat(brain.qTable,expansion,1))\n",
        "\n",
        "ax.set_xticks(np.linspace(0,nactions*expansion-1,nactions+1))\n",
        "ax.set_xticklabels(actions,rotation = 45,fontsize = 6)\n",
        "\n",
        "ax.set_yticks(np.linspace(0,nstates,behavior.stateSlicer+1))\n",
        "ax.set_yticklabels(states,rotation = 90,fontsize = 6)\n",
        "\n",
        "ax.set_xlabel(\"actions\")\n",
        "ax.set_ylabel(\"states\")\n",
        "\n",
        "if saveFig:\n",
        "  plt.savefig(folder+'qtable',bbox_inches = 'tight',format = fileFormat)"
      ],
      "execution_count": null,
      "outputs": [
        {
          "output_type": "display_data",
          "data": {
            "image/png": "[encoded data removed]",
            "text/plain": [
              "<Figure size 1440x1440 with 1 Axes>"
            ]
          },
          "metadata": {
            "tags": [],
            "needs_background": "light"
          }
        }
      ]
    },
    {
      "cell_type": "markdown",
      "metadata": {
        "id": "W4ohc893uVMK"
      },
      "source": [
        "<!-- running same simulation multiple times for different configurations -->"
      ]
    },
    {
      "cell_type": "markdown",
      "metadata": {
        "id": "Vu2SjPFGu1F5"
      },
      "source": [
        "# for pipeline with configurations only"
      ]
    },
    {
      "cell_type": "code",
      "metadata": {
        "id": "0rJrkS4PuhYH",
        "collapsed": true
      },
      "source": [
        "# %%capture out\n",
        "#@title\n",
        "base_dir = '/content/gdrive/MyDrive/Colab Notebooks/simulations/' #this changes when used locally versus in colab\n",
        "createDir(base_dir)\n",
        "nruns = 4;nExps = 13;\n",
        "contributions = np.array([\n",
        "       [0, 0, 1, 1],\n",
        "       [0, 1, 1, 1],\n",
        "       [1, 1, 1, 1],\n",
        "       [0, 0, 0, 0],\n",
        "       [0, -1, 0, 1],\n",
        "\n",
        "       [0, 0, 0, 0],\n",
        "       [0, 1, 0, 0],\n",
        "       [0, 1, 1, 0],\n",
        "       [1, 1, 0, 1],\n",
        "       [1, 1, 1, 1],\n",
        "       [0, 0, 0, -1],\n",
        "       [1, 1, 0, -1],\n",
        "       [1, 1, 1, -1]\n",
        "       ])\n",
        "\n",
        "for exp in range(11,nExps):\n",
        "  #change these for every experiment \n",
        "  folder = base_dir+'exp'+str(exp+1)+'/' \n",
        "  saveFig = True\n",
        "  fileFormat ='png'\n",
        "  plotN = 0 #this variable picks the last \"plotN\" history for plotting \n",
        "\n",
        "  if exp < 5:\n",
        "    nb = 3\n",
        "  else:\n",
        "    nb = 4\n",
        "  contri = contributions[exp,:nb]\n",
        "\n",
        "  for counter in range(nruns):\n",
        "    behavior = Behavior(nNutrients=nb,stateSlicer = 6,actionSlicer = 2)\n",
        "    brain = Brain(behavior)\n",
        "    gut = Gut(nBacteria = nb)\n",
        "\n",
        "    nrows = 2 if gut.nBacteria>3 else 1 #change this according to number of nutrients\n",
        "    ncols = gut.nBacteria//nrows \n",
        "\n",
        "    stepSize = 100\n",
        "    iterations = 500000\n",
        "    n = iterations//stepSize\n",
        "    gut.gc = 0.01\n",
        "    gut.dc = 0.01\n",
        "    gut.contribution = contri\n",
        "    \n",
        "\n",
        "    # %%time\n",
        "    # instead of recording system state at fixed intervals, we can also record history at random timesteps\n",
        "    # randSel = np.random.randint(0,iterations,n)\n",
        "    # randSel.sort()\n",
        "\n",
        "    behaviorHistory = np.zeros((iterations//stepSize,behavior.nNutrients))\n",
        "    gutPopHistory = np.zeros((iterations//stepSize,gut.nBacteria))\n",
        "    rewardHistory = np.zeros((iterations//stepSize))\n",
        "    stateHistory = np.zeros((n,behavior.nNutrients))\n",
        "    actionHistory = np.zeros((n,behavior.nNutrients))\n",
        "    idx=0\n",
        "    for t in tqdm(range(iterations)):\n",
        "        \n",
        "\n",
        "        # find best possible action in brain using RL\n",
        "        actionInd = brain.do(behavior.stateInd)\n",
        "        \n",
        "        # update behavior state as a result of action chosen by brain\n",
        "        oldInd = behavior.stateInd\n",
        "        newStateInd = behavior.updateState(behavior.stateInd,actionInd)\n",
        "        behavior.stateInd = newStateInd\n",
        "\n",
        "        #find the reward elicited by gut\n",
        "        behavior.ingestNutrients()\n",
        "        gut.generateReward(behavior.output)\n",
        "        \n",
        "        gut.updatePopulation(behavior.output)\n",
        "        \n",
        "        brain.learn(newStateInd,gut.reward)\n",
        "        brain.time = t\n",
        "\n",
        "        if t%100 ==0:\n",
        "            brain.epsilon*=0.99\n",
        "\n",
        "        if t%stepSize==0:\n",
        "            behaviorHistory[idx] = behavior.output\n",
        "            gutPopHistory[idx] = gut.pop\n",
        "            rewardHistory[idx] = gut.reward\n",
        "            stateHistory[idx] = behavior.stateSet[oldInd]\n",
        "            actionHistory[idx] = behavior.actionSet[actionInd]\n",
        "\n",
        "            idx+=1\n",
        "\n",
        "    writeParameters()\n",
        "\n",
        "\n",
        "      #@title\n",
        "    # one scatter plot for each bacterium population. \n",
        "    # relevant to trace out the population evolution across timesteps.\n",
        "\n",
        "\n",
        "    X = np.arange(len(gutPopHistory[plotN:,0]))\n",
        "\n",
        "    fig,ax = plt.subplots(nrows,ncols,sharex = True, sharey = True,figsize = (15,6))\n",
        "    cm = plt.get_cmap(\"tab10\")\n",
        "    ax = ax.ravel()\n",
        "\n",
        "    for i in range(gut.nBacteria):\n",
        "      ax[i].scatter(X,gutPopHistory[plotN:,i],color = cm(i))\n",
        "      ax[i].set_ylabel(\"gut population\")\n",
        "      ax[i].set_xlabel(\"time\")\n",
        "\n",
        "    fig.text(0.4,0.9,\"Individual gut bacteria population evolution\")\n",
        "    if saveFig:\n",
        "      plt.savefig(folder+'scatter-per-bact-pop'+str(counter+1),bbox_inches = 'tight',format= fileFormat)\n",
        "\n",
        "    #@title\n",
        "    # one scatter plot for state history. \n",
        "    # relevant to trace out the population evolution across timesteps.\n",
        "\n",
        "\n",
        "    X = np.arange(len(stateHistory[plotN:,0]))\n",
        "    fig,ax = plt.subplots(nrows,ncols,sharex = True, sharey = True,figsize = (15,6))\n",
        "    cm = plt.get_cmap(\"tab10\")\n",
        "    ax = ax.ravel()\n",
        "\n",
        "    for i in range(gut.nBacteria):\n",
        "      ax[i].scatter(X,stateHistory[plotN:,i],color = cm(i))\n",
        "      ax[i].set_ylabel(\"cravings\")\n",
        "      ax[i].set_xlabel(\"time\")\n",
        "\n",
        "    fig.text(0.4,0.9,\"Individual state history\")\n",
        "    if saveFig:\n",
        "      plt.savefig(folder+'scatter-state'+str(counter+1),bbox_inches = 'tight',format= fileFormat)    \n",
        "\n",
        "    #@title\n",
        "    # plotting reward history\n",
        "    fig,ax = plt.subplots(1,1)\n",
        "    ax.scatter(range(len(rewardHistory)),rewardHistory)\n",
        "    ax.set_xlabel(\"time\")\n",
        "    ax.set_ylabel(\"normalized reward\")\n",
        "    if saveFig:\n",
        "      plt.savefig(folder+'reward'+str(counter+1),bbox_inches = 'tight',format= fileFormat)\n",
        "            \n",
        "    #@title\n",
        "    # Behavior history for each bacterium - whether the bacteria received the nutrient or not. \n",
        "    # yellow represents higher values (or presence of nutrient to the bacteria)\n",
        "    # width of heat map = \n",
        "\n",
        "    a = behaviorHistory\n",
        "    height = int(0.9*len(behavior.stateSet)//len(behavior.actionSet)) #height of the heat map\n",
        "    # height = int(len(behavior.stateSet)//2)\n",
        "    fig,ax = plt.subplots(nrows,ncols,sharey = True,sharex = True,figsize = (50,50))\n",
        "    ax = ax.ravel()\n",
        "\n",
        "    for i in range(gut.nBacteria):\n",
        "      ax[i].imshow(np.tile(a[plotN:,i],(height,1)))\n",
        "      ax[i].set_xticklabels([])\n",
        "      ax[i].set_yticklabels([])\n",
        "      ax[i].set_title(\"nutrient \"+str(i+1))\n",
        "    fig.text(0.3,0.3,\"time steps (whether with time, nutrients were being ingested or not?)\")\n",
        "    if saveFig:\n",
        "      plt.savefig(folder+'nutrient-behavior'+str(counter+1),bbox_inches = 'tight',format= fileFormat)\n",
        "\n",
        "    #@title\n",
        "    # Qtable heat map\n",
        "\n",
        "\n",
        "    nstates = len(behavior.stateSet)\n",
        "    nactions = len(behavior.actionSet)\n",
        "    expansion = 0.5*nstates//nactions\n",
        "\n",
        "\n",
        "    actions = behavior.actionSet\n",
        "    states = [behavior.stateSet[int(i)] for i in np.linspace(0,nstates,behavior.stateSlicer+1)[:-1]]\n",
        "\n",
        "    fig,ax = plt.subplots(1,1,figsize = (20,20))\n",
        "    ax.imshow(np.repeat(brain.qTable,expansion,1))\n",
        "\n",
        "    ax.set_xticks(np.linspace(0,nactions*expansion-1,nactions+1))\n",
        "    ax.set_xticklabels(actions,rotation = 45,fontsize = 6)\n",
        "\n",
        "    ax.set_yticks(np.linspace(0,nstates,behavior.stateSlicer+1))\n",
        "    ax.set_yticklabels(states,rotation = 90,fontsize = 6)\n",
        "\n",
        "    ax.set_xlabel(\"actions\")\n",
        "    ax.set_ylabel(\"states\")\n",
        "\n",
        "    if saveFig:\n",
        "      plt.savefig(folder+'qtable'+str(counter+1),bbox_inches = 'tight',format = fileFormat)\n",
        "    "
      ],
      "execution_count": null,
      "outputs": []
    }
  ]
}