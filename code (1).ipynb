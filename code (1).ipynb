{
 "cells": [
  {
   "cell_type": "code",
   "execution_count": 64,
   "metadata": {},
   "outputs": [],
   "source": [
    "import numpy as np\n",
    "import matplotlib.pyplot as plt\n",
    "import pandas as pd\n",
    "from itertools import product"
   ]
  },
  {
   "cell_type": "code",
   "execution_count": 65,
   "metadata": {},
   "outputs": [],
   "source": [
    "a = list(product(np.linspace(0,1,11).round(1),np.linspace(0,1,11).round(1),np.linspace(0,1,11).round(1)))\n",
    "len(a)\n",
    "rtable = {}"
   ]
  },
  {
   "cell_type": "code",
   "execution_count": 66,
   "metadata": {},
   "outputs": [],
   "source": [
    "dopamine_b1 = np.zeros(1331)\n",
    "for i,kk in enumerate(a):\n",
    "    dopamine_b1[i] = np.round(2*kk[0]+0.6*kk[1]+0.1*kk[2],2)\n",
    "\n",
    "dopamine_b2 = np.zeros(1331)\n",
    "for i,kk in enumerate(a):\n",
    "    dopamine_b2[i] = np.round(5*kk[0]+0.1*kk[1]+0.2*kk[2],2)\n",
    "    \n",
    "dopamine_b3 = np.zeros(1331)\n",
    "for i,kk in enumerate(a):\n",
    "    dopamine_b3[i] = np.round(1*kk[0]+0.1*kk[1]+0.01*kk[2],2)"
   ]
  },
  {
   "cell_type": "code",
   "execution_count": 67,
   "metadata": {},
   "outputs": [
    {
     "data": {
      "text/plain": [
       "(9.11, 9.11, array([0.  , 0.03, 0.06, ..., 9.05, 9.08, 9.11]))"
      ]
     },
     "execution_count": 67,
     "metadata": {},
     "output_type": "execute_result"
    }
   ],
   "source": [
    "max_dop = np.zeros(len(a))\n",
    "\n",
    "for ii,ai in enumerate(a):\n",
    "    rtable[ai,'bacteria_1'] = dopamine_b1[ii]\n",
    "    rtable[ai,'bacteria_2'] = dopamine_b2[ii]\n",
    "    rtable[ai,'bacteria_3'] = dopamine_b3[ii]\n",
    "    max_dop[ii] = dopamine_b1[ii] + dopamine_b2[ii] + dopamine_b3[ii]\n",
    "\n",
    "    \n",
    "max(max_dop),max_dop[-1],max_dop"
   ]
  },
  {
   "cell_type": "code",
   "execution_count": 68,
   "metadata": {},
   "outputs": [
    {
     "data": {
      "text/plain": [
       "(((0.0, 1.0, 0.0), 'bacteria_2'), 0.1)"
      ]
     },
     "execution_count": 68,
     "metadata": {},
     "output_type": "execute_result"
    }
   ],
   "source": [
    "b =(tuple(np.random.choice(np.linspace(0,1,11),3).round())),np.random.choice(['bacteria_1','bacteria_2','bacteria_3'])\n",
    "\n",
    "b,rtable.get(b)"
   ]
  },
  {
   "cell_type": "code",
   "execution_count": 69,
   "metadata": {},
   "outputs": [
    {
     "name": "stdout",
     "output_type": "stream",
     "text": [
      "(1.0, 1.0, 1.0)\n"
     ]
    }
   ],
   "source": [
    "print(ai)"
   ]
  },
  {
   "cell_type": "code",
   "execution_count": 74,
   "metadata": {},
   "outputs": [],
   "source": [
    "class Organism():\n",
    "    def __init__(self,n):\n",
    "        self.nutrients = n\n",
    "        self.brain = Brain(self)\n",
    "        self.gut = [Bacteria('bacteria_'+str(i+1)) for i in range(3)] \n",
    "\n",
    "    def run(self):\n",
    "        self.brain.currentState()\n",
    "        for i in range(1000):\n",
    "            self.brain.behavior()\n",
    "        \n",
    "class Bacteria():\n",
    "    def __init__(self,cat,population):\n",
    "        self.category = cat\n",
    "        self.population = np.random.randint(100,200)\n",
    "        \n",
    "class Gut():\n",
    "    def __init__(self,bacteria,proportion):\n",
    "        self.bacteria = bacteria\n",
    "        self.proportion = proportion\n",
    "        \n",
    "class Brain():\n",
    "    def __init__(self,organism,action,state,alpha=1,gamma=0.1,epsilon=0.01):\n",
    "        self.organism = organism\n",
    "        self.gut = gut\n",
    "        self.state = state\n",
    "        self.alpha = alpha\n",
    "        self.gamma = gamma\n",
    "        self.epsilon = epsilon\n",
    "        self.qtable = {}\n",
    "        \n",
    "    def actions(self):\n",
    "        self.actions = action\n",
    "        action = tuple(product(np.linspace(0,0.1,2),np.linspace(-0.1,0.1,2),np.linspace(-0.1,0.1,2)))\n",
    "        \n",
    "    def currentState(self):\n",
    "        self.state = self.organism.nutrients\n",
    "\n",
    "    def behaviour(self):\n",
    "        if np.random.random()<self.epsilon:\n",
    "            action = tuple(np.random.choice([0.1,0.0,-0.1], 3))\n",
    "        else:\n",
    "            q_value = [self.qtable.get((state,a),0.0) for a in action]\n",
    "            q_max_ind = np.where(q_value == np.max(q_value))[0]\n",
    "            newaction = self.actions[np.random.choice(q_max_ind)]\n",
    "\n",
    "        self.oldstate = self.state\n",
    "        self.oldaction = action\n",
    "        self.state = tuple(np.round(np.clip(np.array(self.oldstate) + np.array(action),0,1),1))\n",
    "        # this is the summation of dopamine from all bacterium, say         \n",
    "        self.reward = np.sum([rtable.get((self.oldstate,b.type)) for b in self.organism.gut])  \n",
    "        self.learn()\n",
    "        return newaction\n",
    "    \n",
    "    def learn(self):\n",
    "        old_q = self.qtable.get((self.oldstate,self.oldaction),0.0)\n",
    "        max_new_q = np.max([self.qtable.get((self.state,a),0.0) for a in action])\n",
    "        new_q = old_q + self.alpha*(self.oldreward + self.gamma*max_new_q - old_q)\n",
    "        self.qtable[(self.oldstate,self.oldaction)] = np.round(new_q,3)\n",
    "        \n",
    "            \n",
    "\n",
    "            \n",
    "            \n",
    "    "
   ]
  },
  {
   "cell_type": "code",
   "execution_count": 75,
   "metadata": {},
   "outputs": [
    {
     "ename": "TypeError",
     "evalue": "__init__() missing 2 required positional arguments: 'action' and 'state'",
     "output_type": "error",
     "traceback": [
      "\u001b[0;31m---------------------------------------------------------------------------\u001b[0m",
      "\u001b[0;31mTypeError\u001b[0m                                 Traceback (most recent call last)",
      "\u001b[0;32m<ipython-input-75-ca5f35060739>\u001b[0m in \u001b[0;36m<module>\u001b[0;34m\u001b[0m\n\u001b[0;32m----> 1\u001b[0;31m \u001b[0mo\u001b[0m \u001b[0;34m=\u001b[0m \u001b[0mOrganism\u001b[0m\u001b[0;34m(\u001b[0m\u001b[0;34m(\u001b[0m\u001b[0;36m0.2\u001b[0m\u001b[0;34m,\u001b[0m\u001b[0;36m0.4\u001b[0m\u001b[0;34m,\u001b[0m\u001b[0;36m0.3\u001b[0m\u001b[0;34m)\u001b[0m\u001b[0;34m)\u001b[0m\u001b[0;34m\u001b[0m\u001b[0;34m\u001b[0m\u001b[0m\n\u001b[0m\u001b[1;32m      2\u001b[0m \u001b[0mo\u001b[0m\u001b[0;34m.\u001b[0m\u001b[0mrun\u001b[0m\u001b[0;34m(\u001b[0m\u001b[0;34m)\u001b[0m\u001b[0;34m\u001b[0m\u001b[0;34m\u001b[0m\u001b[0m\n\u001b[1;32m      3\u001b[0m \u001b[0mo\u001b[0m\u001b[0;34m.\u001b[0m\u001b[0mbrain\u001b[0m\u001b[0;34m.\u001b[0m\u001b[0mqtable\u001b[0m\u001b[0;34m\u001b[0m\u001b[0;34m\u001b[0m\u001b[0m\n",
      "\u001b[0;32m<ipython-input-74-787f77d39936>\u001b[0m in \u001b[0;36m__init__\u001b[0;34m(self, n)\u001b[0m\n\u001b[1;32m      2\u001b[0m     \u001b[0;32mdef\u001b[0m \u001b[0m__init__\u001b[0m\u001b[0;34m(\u001b[0m\u001b[0mself\u001b[0m\u001b[0;34m,\u001b[0m\u001b[0mn\u001b[0m\u001b[0;34m)\u001b[0m\u001b[0;34m:\u001b[0m\u001b[0;34m\u001b[0m\u001b[0;34m\u001b[0m\u001b[0m\n\u001b[1;32m      3\u001b[0m         \u001b[0mself\u001b[0m\u001b[0;34m.\u001b[0m\u001b[0mnutrients\u001b[0m \u001b[0;34m=\u001b[0m \u001b[0mn\u001b[0m\u001b[0;34m\u001b[0m\u001b[0;34m\u001b[0m\u001b[0m\n\u001b[0;32m----> 4\u001b[0;31m         \u001b[0mself\u001b[0m\u001b[0;34m.\u001b[0m\u001b[0mbrain\u001b[0m \u001b[0;34m=\u001b[0m \u001b[0mBrain\u001b[0m\u001b[0;34m(\u001b[0m\u001b[0mself\u001b[0m\u001b[0;34m)\u001b[0m\u001b[0;34m\u001b[0m\u001b[0;34m\u001b[0m\u001b[0m\n\u001b[0m\u001b[1;32m      5\u001b[0m         \u001b[0mself\u001b[0m\u001b[0;34m.\u001b[0m\u001b[0mgut\u001b[0m \u001b[0;34m=\u001b[0m \u001b[0;34m[\u001b[0m\u001b[0mBacteria\u001b[0m\u001b[0;34m(\u001b[0m\u001b[0;34m'bacteria_'\u001b[0m\u001b[0;34m+\u001b[0m\u001b[0mstr\u001b[0m\u001b[0;34m(\u001b[0m\u001b[0mi\u001b[0m\u001b[0;34m+\u001b[0m\u001b[0;36m1\u001b[0m\u001b[0;34m)\u001b[0m\u001b[0;34m)\u001b[0m \u001b[0;32mfor\u001b[0m \u001b[0mi\u001b[0m \u001b[0;32min\u001b[0m \u001b[0mrange\u001b[0m\u001b[0;34m(\u001b[0m\u001b[0;36m3\u001b[0m\u001b[0;34m)\u001b[0m\u001b[0;34m]\u001b[0m\u001b[0;34m\u001b[0m\u001b[0;34m\u001b[0m\u001b[0m\n\u001b[1;32m      6\u001b[0m \u001b[0;34m\u001b[0m\u001b[0m\n",
      "\u001b[0;31mTypeError\u001b[0m: __init__() missing 2 required positional arguments: 'action' and 'state'"
     ]
    }
   ],
   "source": [
    "o = Organism((0.2,0.4,0.3))\n",
    "o.run()\n",
    "o.brain.qtable"
   ]
  },
  {
   "cell_type": "code",
   "execution_count": null,
   "metadata": {},
   "outputs": [],
   "source": []
  },
  {
   "cell_type": "code",
   "execution_count": null,
   "metadata": {},
   "outputs": [],
   "source": []
  },
  {
   "cell_type": "code",
   "execution_count": null,
   "metadata": {},
   "outputs": [],
   "source": []
  },
  {
   "cell_type": "code",
   "execution_count": null,
   "metadata": {},
   "outputs": [],
   "source": []
  }
 ],
 "metadata": {
  "kernelspec": {
   "display_name": "Python 3",
   "language": "python",
   "name": "python3"
  },
  "language_info": {
   "codemirror_mode": {
    "name": "ipython",
    "version": 3
   },
   "file_extension": ".py",
   "mimetype": "text/x-python",
   "name": "python",
   "nbconvert_exporter": "python",
   "pygments_lexer": "ipython3",
   "version": "3.9.0"
  }
 },
 "nbformat": 4,
 "nbformat_minor": 4
}
