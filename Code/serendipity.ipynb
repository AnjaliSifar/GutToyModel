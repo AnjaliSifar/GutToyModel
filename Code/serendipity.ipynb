{
  "nbformat": 4,
  "nbformat_minor": 0,
  "metadata": {
    "orig_nbformat": 2,
    "kernelspec": {
      "name": "python3",
      "display_name": "Python 3",
      "language": "python"
    },
    "colab": {
      "name": "Copy of serendipity.ipynb",
      "provenance": [],
      "collapsed_sections": [
        "NAdLqw1NXhMX",
        "oJIp0Q7-W0dY"
      ],
      "include_colab_link": true
    },
    "language_info": {
      "name": "python",
      "version": "3.7.3"
    }
  },
  "cells": [
    {
      "cell_type": "markdown",
      "metadata": {
        "id": "view-in-github",
        "colab_type": "text"
      },
      "source": [
        "<a href=\"https://colab.research.google.com/github/AnjaliSifar/GutToyModel/blob/main/serendipity.ipynb\" target=\"_parent\"><img src=\"https://colab.research.google.com/assets/colab-badge.svg\" alt=\"Open In Colab\"/></a>"
      ]
    },
    {
      "cell_type": "markdown",
      "metadata": {
        "id": "EivEUxP-XXLq"
      },
      "source": [
        "# **Generic code**"
      ]
    },
    {
      "cell_type": "code",
      "metadata": {
        "id": "ZiHrcf9h0nZf",
        "cellView": "form"
      },
      "source": [
        "#@title\n",
        "import numpy as np\n",
        "import matplotlib.pyplot as plt\n",
        "from itertools import product\n",
        "import random\n",
        "import time\n",
        "from tqdm import tqdm\n",
        "\n",
        "from datetime import datetime\n",
        "import os,errno"
      ],
      "execution_count": 2,
      "outputs": []
    },
    {
      "cell_type": "code",
      "metadata": {
        "id": "xxnitihqPdl8",
        "cellView": "form"
      },
      "source": [
        "#@title\n",
        "def createDir(dir):\n",
        "  try:\n",
        "      os.mkdir(dir)\n",
        "      print(\"created directory\",dir)\n",
        "  except OSError as e:\n",
        "      if e.errno == errno.EEXIST:\n",
        "          print('Directory ',dir,'already exists.')\n",
        "      else:\n",
        "          raise  "
      ],
      "execution_count": 3,
      "outputs": []
    },
    {
      "cell_type": "code",
      "metadata": {
        "id": "1IuGXft_0nZt"
      },
      "source": [
        "#@title\n",
        "def writeParameters():\n",
        "  if saveFig:\n",
        "    now = datetime.now()\n",
        "    dt_string = now.strftime(\"%d/%m/%Y %H:%M:%S\")\n",
        "\n",
        "    createDir(folder)\n",
        "    \n",
        "    params = \"\"\" SIMULATION RAN ON : {dt}\n",
        "    number of iterations = {0}\n",
        "    first slice for graph plotting, plotN = {1}\n",
        "    step size, history recorded at every step size  = {2}\n",
        "    \n",
        "    \n",
        "    plot selection variables : choice = {ps1}, number of data points for representation = {ps2}\n",
        "    in case of a random slice of history:start = {ps3}, stop = {ps4}, step = {ps5}\n",
        "    \n",
        "    \n",
        "    BEHAVIOUR PARAMETERS \n",
        "    =======================\n",
        "    # nutrients = {b1}\n",
        "    state slicer = {b2}\n",
        "    action slicer = {b3}\n",
        "\n",
        "    shapes of stm, state space, action space = {b4},{b5},{b6}\n",
        "\n",
        "\n",
        "    GUT PARAMETERS\n",
        "    ===============\n",
        "    Growth constant = {g1}\n",
        "    Decay constant = {g2}\n",
        "    K = {g3}\n",
        "    per bacteria contribution = {g4}\n",
        "\n",
        "    BRAIN PARAMETERS\n",
        "    ==================\n",
        "    alpha = {bb1}\n",
        "    gamma = {bb2}\n",
        "    epsilon = {bb3}\n",
        "\n",
        "    \"\"\".format(iterations,plotN,stepSize\n",
        "    ,b1 = behavior.nNutrients,b2 = behavior.stateSlicer,b3 = behavior.actionSlicer\n",
        "    ,b4 = behavior.stm.shape,b5 = len(behavior.stateSet),b6 = len(behavior.actionSet)\n",
        "    ,b7 = behavior.stateSet,b8 = behavior.actionSet\n",
        "    ,g1 = gut.gc,g2 = gut.dc,g3 = gut.K,g4 = gut.contribution\n",
        "    ,bb1 = brain.alpha,bb2 = brain.gamma, bb3 = brain.epsilon\n",
        "    ,ps1 = choice, ps2 = plotDataPoints, ps3 = start, ps4 = stop, ps5 = step\n",
        "    ,dt = dt_string\n",
        "    )\n",
        "\n",
        "    with open(folder+\"parameters.txt\", \"a\") as file:\n",
        "        file.write(params)\n"
      ],
      "execution_count": 4,
      "outputs": []
    },
    {
      "cell_type": "code",
      "metadata": {
        "cellView": "form",
        "id": "JIvJ7pO_ZAyC"
      },
      "source": [
        "#@title\n",
        "def generatePlotSel(choice = 'random',**kwargs):\n",
        "    sel = np.arange(5)\n",
        "    if choice == 'random':\n",
        "        n = kwargs.get('n',5)\n",
        "        randSel = np.random.randint(0,iterations,n)\n",
        "        randSel.sort()\n",
        "        sel =  randSel\n",
        "    elif choice == 'all':\n",
        "        sel = np.arange(iterations)\n",
        "    elif choice == 'custom':\n",
        "        start = kwargs.get('start',0)\n",
        "        stop = kwargs.get('stop',5)\n",
        "        step = kwargs.get('step',1)\n",
        "        sel = np.arange(start,stop,step)\n",
        "    \n",
        "    else:\n",
        "        print(\"first five selection only.\")\n",
        "    return sel\n",
        "\n"
      ],
      "execution_count": 5,
      "outputs": []
    },
    {
      "cell_type": "markdown",
      "metadata": {
        "id": "NAdLqw1NXhMX"
      },
      "source": [
        "# **System**"
      ]
    },
    {
      "cell_type": "code",
      "metadata": {
        "id": "67dahBXa0nZj",
        "cellView": "form"
      },
      "source": [
        "#@title\n",
        "   \n",
        "class Brain:\n",
        "    def __init__(self, behavior, **kwargs):\n",
        "\n",
        "        # Params\n",
        "        self.alpha = kwargs.get('alpha', 0.1)\n",
        "        self.gamma = kwargs.get('gamma', 0.05)\n",
        "        self.epsilon = kwargs.get('epsilon', 0.1)\n",
        "        \n",
        "        self.time = kwargs.get('time', 1)  #for debugging\n",
        "\n",
        "        # for convenience\n",
        "        self.nActions = len(behavior.actionSet)\n",
        "        self.nStates = len(behavior.stateSet)\n",
        "\n",
        "        # To be computed\n",
        "        self.qTable = np.zeros((self.nStates,self.nActions))\n",
        "        self.oStateInd = behavior.stateInd\n",
        "        self.oActionInd = None\n",
        "\n",
        "\n",
        "    def do(self,stateInd):\n",
        "        self.oStateInd= stateInd\n",
        "        if(np.random.random() > self.epsilon):\n",
        "            actionInd = self.exploit(stateInd)\n",
        "        else:\n",
        "            actionInd = self.explore()\n",
        "\n",
        "        self.oActionInd = actionInd\n",
        "        return self.oActionInd\n",
        "\n",
        "        \n",
        "\n",
        "    def learn(self,newstate, reward):\n",
        "        \n",
        "        old_q = self.qTable[self.oStateInd,self.oActionInd]\n",
        "        maxFutureQ = max(self.qTable[newstate, :])\n",
        "\n",
        "        self.qTable[self.oStateInd, self.oActionInd] = old_q + self.alpha*(reward +                 self.gamma*maxFutureQ - old_q)\n",
        "\n",
        "# For debugging only\n",
        "        # delta = self.qTable[self.oStateInd, self.oActionInd] - old_q\n",
        "        # if self.time%100 == 0:\n",
        "        #     print(\"\"\" delta = {0:.4f} , old q= {1:.3f}, new q = {2:.3f}\n",
        "        #         \"\"\".format(delta,old_q,self.qTable[self.oldStateIndex, self.oldActionIndex]))\n",
        "\n",
        "        \n",
        "           \n",
        "    def exploit(self,stateInd):\n",
        "        possibleActionValues = self.qTable[stateInd, :]\n",
        "        maxActionInd = np.where(possibleActionValues == max(possibleActionValues))[0]\n",
        "        return np.random.choice(maxActionInd)\n",
        "        \n",
        "        \n",
        "    def explore(self):\n",
        "        return np.random.choice(range(self.nActions))"
      ],
      "execution_count": 6,
      "outputs": []
    },
    {
      "cell_type": "code",
      "metadata": {
        "tags": [],
        "id": "S9WO0fiJ0nZl",
        "cellView": "form"
      },
      "source": [
        "#@title\n",
        "class Behavior:\n",
        "    def __init__(self,initState=None,nNutrients = 3, **kwargs):\n",
        "\n",
        "\n",
        "        self.nNutrients = nNutrients\n",
        "\n",
        "# Create state and action sets\n",
        "        self.stateSlicer =  kwargs.get('stateSlicer',5)\n",
        "        self.actionSlicer =  kwargs.get('actionSlicer', 2)\n",
        "\n",
        "        tempState = np.linspace(0, 1, self.stateSlicer).round(2)\n",
        "        #to include space for each nutrient, dynamically add state space for each nutrient\n",
        "        tempList = np.tile(tempState,(nNutrients,1)) \n",
        "        self.stateSet = list(product(*tempList)) \n",
        "        \n",
        "        temp_t = tempState[1]-tempState[0]\n",
        "        tempAction = np.linspace(-temp_t,temp_t,self.actionSlicer)\n",
        "        tempList = np.tile(tempAction,(nNutrients,1)) \n",
        "        self.actionSet = list(product(*tempList))\n",
        "\n",
        "\n",
        "        if not initState:\n",
        "            self.stateInd = np.random.choice(range(len(self.stateSet)))\n",
        "            print(\"\"\"randomly initialised to {0} state\"\"\".format(self.stateSet[self.stateInd]))\n",
        "        else:\n",
        "            state =  initState   #Initializing\n",
        "            self.stateInd = self.findStateIndex(state)\n",
        "            print(\"\"\"initialised to  {0}\"\"\".format(state))\n",
        "\n",
        "\n",
        "        self.stm = np.zeros((len(self.stateSet), len(self.actionSet)))\n",
        "        self.computeStateTransitions()\n",
        "\n",
        "\n",
        "        self.output = np.zeros((self.nNutrients))\n",
        "\n",
        "\n",
        "    def computeStateTransitions(self):\n",
        "        tic = time.perf_counter()\n",
        "\n",
        "        for (si,_),(ai,_) in product(enumerate(self.stateSet),enumerate(self.actionSet)):\n",
        "            nsi = self.updateState(si,ai) \n",
        "            self.stm[si,ai] = nsi\n",
        "        toc = time.perf_counter()\n",
        "\n",
        "        print(\"\"\"total time to compute state transition matrix = {0:.2f} seconds\"\"\".format(toc-tic))\n",
        "\n",
        "\n",
        "    def findStateIndex(self,s):\n",
        "        return np.where((self.stateSet == s).all(axis=1))[0][0]           \n",
        "\n",
        "\n",
        "    def updateState(self,si,ai):\n",
        "        s = self.stateSet[si]\n",
        "        a = self.actionSet[ai]\n",
        "        #new state defined by behavior based upon action chosen by brain\n",
        "        ns = np.clip(np.array(s)+np.array(a),0,1).round(2) \n",
        "        ind = self.findStateIndex(ns)\n",
        "        return ind\n",
        "\n",
        "    def ingestNutrients(self):\n",
        "        self.output = np.random.binomial(1,self.stateSet[self.stateInd])\n",
        "\n"
      ],
      "execution_count": 7,
      "outputs": []
    },
    {
      "cell_type": "code",
      "metadata": {
        "id": "4YBoOoEq0nZo",
        "cellView": "form"
      },
      "source": [
        "#@title\n",
        "class Gut:\n",
        "    def __init__(self,initPop = None,nBacteria = 3,**kwargs):\n",
        "        \n",
        "\n",
        "        self.nBacteria = nBacteria\n",
        "        self.pop = np.random.choice(np.arange(100,200),self.nBacteria)\n",
        "\n",
        "        self.gc = kwargs.get('gc',0.1)\n",
        "        self.dc = kwargs.get('dc',0.1)\n",
        "        self.K = kwargs.get('K',25000)\n",
        "        self.contribution = kwargs.get('contribution',np.ones((nBacteria)))\n",
        "            \n",
        "    ## Population-based implementation\n",
        "    def updatePopulation(self, nutrients):\n",
        "        k_prop =  self.K*self.pop/self.pop.sum()\n",
        "        self.pop = self.pop*(1+self.gc*nutrients - self.pop*self.dc/k_prop)\n",
        "        self.pop = np.where(self.pop < 0.01,0.01,0)+self.pop \n",
        "\n",
        "    def generateReward(self,nutrients):\n",
        "\n",
        "        self.reward = np.sum(self.pop*self.contribution*nutrients)\n",
        "        self.reward = self.reward/(self.gc*self.K/self.dc)\n",
        "    "
      ],
      "execution_count": 7,
      "outputs": []
    },
    {
      "cell_type": "code",
      "execution_count": 121,
      "metadata": {},
      "outputs": [
        {
          "output_type": "display_data",
          "data": {
            "text/plain": "<Figure size 432x288 with 1 Axes>",
            "image/svg+xml": "<?xml version=\"1.0\" encoding=\"utf-8\" standalone=\"no\"?>\n<!DOCTYPE svg PUBLIC \"-//W3C//DTD SVG 1.1//EN\"\n  \"http://www.w3.org/Graphics/SVG/1.1/DTD/svg11.dtd\">\n<!-- Created with matplotlib (https://matplotlib.org/) -->\n<svg height=\"277.073625pt\" version=\"1.1\" viewBox=\"0 0 375.2875 277.073625\" width=\"375.2875pt\" xmlns=\"http://www.w3.org/2000/svg\" xmlns:xlink=\"http://www.w3.org/1999/xlink\">\n <defs>\n  <style type=\"text/css\">\n*{stroke-linecap:butt;stroke-linejoin:round;}\n  </style>\n </defs>\n <g id=\"figure_1\">\n  <g id=\"patch_1\">\n   <path d=\"M 0 277.073625 \nL 375.2875 277.073625 \nL 375.2875 0 \nL 0 0 \nz\n\" style=\"fill:none;\"/>\n  </g>\n  <g id=\"axes_1\">\n   <g id=\"patch_2\">\n    <path d=\"M 33.2875 253.1955 \nL 368.0875 253.1955 \nL 368.0875 35.7555 \nL 33.2875 35.7555 \nz\n\" style=\"fill:#ffffff;\"/>\n   </g>\n   <g id=\"matplotlib.axis_1\">\n    <g id=\"xtick_1\">\n     <g id=\"line2d_1\">\n      <defs>\n       <path d=\"M 0 0 \nL 0 3.5 \n\" id=\"m95da488f67\" style=\"stroke:#000000;stroke-width:0.8;\"/>\n      </defs>\n      <g>\n       <use style=\"stroke:#000000;stroke-width:0.8;\" x=\"48.505682\" xlink:href=\"#m95da488f67\" y=\"253.1955\"/>\n      </g>\n     </g>\n     <g id=\"text_1\">\n      <!-- 0 -->\n      <defs>\n       <path d=\"M 31.78125 66.40625 \nQ 24.171875 66.40625 20.328125 58.90625 \nQ 16.5 51.421875 16.5 36.375 \nQ 16.5 21.390625 20.328125 13.890625 \nQ 24.171875 6.390625 31.78125 6.390625 \nQ 39.453125 6.390625 43.28125 13.890625 \nQ 47.125 21.390625 47.125 36.375 \nQ 47.125 51.421875 43.28125 58.90625 \nQ 39.453125 66.40625 31.78125 66.40625 \nz\nM 31.78125 74.21875 \nQ 44.046875 74.21875 50.515625 64.515625 \nQ 56.984375 54.828125 56.984375 36.375 \nQ 56.984375 17.96875 50.515625 8.265625 \nQ 44.046875 -1.421875 31.78125 -1.421875 \nQ 19.53125 -1.421875 13.0625 8.265625 \nQ 6.59375 17.96875 6.59375 36.375 \nQ 6.59375 54.828125 13.0625 64.515625 \nQ 19.53125 74.21875 31.78125 74.21875 \nz\n\" id=\"DejaVuSans-48\"/>\n      </defs>\n      <g transform=\"translate(45.324432 267.793937)scale(0.1 -0.1)\">\n       <use xlink:href=\"#DejaVuSans-48\"/>\n      </g>\n     </g>\n    </g>\n    <g id=\"xtick_2\">\n     <g id=\"line2d_2\">\n      <g>\n       <use style=\"stroke:#000000;stroke-width:0.8;\" x=\"91.992414\" xlink:href=\"#m95da488f67\" y=\"253.1955\"/>\n      </g>\n     </g>\n     <g id=\"text_2\">\n      <!-- 1000 -->\n      <defs>\n       <path d=\"M 12.40625 8.296875 \nL 28.515625 8.296875 \nL 28.515625 63.921875 \nL 10.984375 60.40625 \nL 10.984375 69.390625 \nL 28.421875 72.90625 \nL 38.28125 72.90625 \nL 38.28125 8.296875 \nL 54.390625 8.296875 \nL 54.390625 0 \nL 12.40625 0 \nz\n\" id=\"DejaVuSans-49\"/>\n      </defs>\n      <g transform=\"translate(79.267414 267.793937)scale(0.1 -0.1)\">\n       <use xlink:href=\"#DejaVuSans-49\"/>\n       <use x=\"63.623047\" xlink:href=\"#DejaVuSans-48\"/>\n       <use x=\"127.246094\" xlink:href=\"#DejaVuSans-48\"/>\n       <use x=\"190.869141\" xlink:href=\"#DejaVuSans-48\"/>\n      </g>\n     </g>\n    </g>\n    <g id=\"xtick_3\">\n     <g id=\"line2d_3\">\n      <g>\n       <use style=\"stroke:#000000;stroke-width:0.8;\" x=\"135.479146\" xlink:href=\"#m95da488f67\" y=\"253.1955\"/>\n      </g>\n     </g>\n     <g id=\"text_3\">\n      <!-- 2000 -->\n      <defs>\n       <path d=\"M 19.1875 8.296875 \nL 53.609375 8.296875 \nL 53.609375 0 \nL 7.328125 0 \nL 7.328125 8.296875 \nQ 12.9375 14.109375 22.625 23.890625 \nQ 32.328125 33.6875 34.8125 36.53125 \nQ 39.546875 41.84375 41.421875 45.53125 \nQ 43.3125 49.21875 43.3125 52.78125 \nQ 43.3125 58.59375 39.234375 62.25 \nQ 35.15625 65.921875 28.609375 65.921875 \nQ 23.96875 65.921875 18.8125 64.3125 \nQ 13.671875 62.703125 7.8125 59.421875 \nL 7.8125 69.390625 \nQ 13.765625 71.78125 18.9375 73 \nQ 24.125 74.21875 28.421875 74.21875 \nQ 39.75 74.21875 46.484375 68.546875 \nQ 53.21875 62.890625 53.21875 53.421875 \nQ 53.21875 48.921875 51.53125 44.890625 \nQ 49.859375 40.875 45.40625 35.40625 \nQ 44.1875 33.984375 37.640625 27.21875 \nQ 31.109375 20.453125 19.1875 8.296875 \nz\n\" id=\"DejaVuSans-50\"/>\n      </defs>\n      <g transform=\"translate(122.754146 267.793937)scale(0.1 -0.1)\">\n       <use xlink:href=\"#DejaVuSans-50\"/>\n       <use x=\"63.623047\" xlink:href=\"#DejaVuSans-48\"/>\n       <use x=\"127.246094\" xlink:href=\"#DejaVuSans-48\"/>\n       <use x=\"190.869141\" xlink:href=\"#DejaVuSans-48\"/>\n      </g>\n     </g>\n    </g>\n    <g id=\"xtick_4\">\n     <g id=\"line2d_4\">\n      <g>\n       <use style=\"stroke:#000000;stroke-width:0.8;\" x=\"178.965877\" xlink:href=\"#m95da488f67\" y=\"253.1955\"/>\n      </g>\n     </g>\n     <g id=\"text_4\">\n      <!-- 3000 -->\n      <defs>\n       <path d=\"M 40.578125 39.3125 \nQ 47.65625 37.796875 51.625 33 \nQ 55.609375 28.21875 55.609375 21.1875 \nQ 55.609375 10.40625 48.1875 4.484375 \nQ 40.765625 -1.421875 27.09375 -1.421875 \nQ 22.515625 -1.421875 17.65625 -0.515625 \nQ 12.796875 0.390625 7.625 2.203125 \nL 7.625 11.71875 \nQ 11.71875 9.328125 16.59375 8.109375 \nQ 21.484375 6.890625 26.8125 6.890625 \nQ 36.078125 6.890625 40.9375 10.546875 \nQ 45.796875 14.203125 45.796875 21.1875 \nQ 45.796875 27.640625 41.28125 31.265625 \nQ 36.765625 34.90625 28.71875 34.90625 \nL 20.21875 34.90625 \nL 20.21875 43.015625 \nL 29.109375 43.015625 \nQ 36.375 43.015625 40.234375 45.921875 \nQ 44.09375 48.828125 44.09375 54.296875 \nQ 44.09375 59.90625 40.109375 62.90625 \nQ 36.140625 65.921875 28.71875 65.921875 \nQ 24.65625 65.921875 20.015625 65.03125 \nQ 15.375 64.15625 9.8125 62.3125 \nL 9.8125 71.09375 \nQ 15.4375 72.65625 20.34375 73.4375 \nQ 25.25 74.21875 29.59375 74.21875 \nQ 40.828125 74.21875 47.359375 69.109375 \nQ 53.90625 64.015625 53.90625 55.328125 \nQ 53.90625 49.265625 50.4375 45.09375 \nQ 46.96875 40.921875 40.578125 39.3125 \nz\n\" id=\"DejaVuSans-51\"/>\n      </defs>\n      <g transform=\"translate(166.240877 267.793937)scale(0.1 -0.1)\">\n       <use xlink:href=\"#DejaVuSans-51\"/>\n       <use x=\"63.623047\" xlink:href=\"#DejaVuSans-48\"/>\n       <use x=\"127.246094\" xlink:href=\"#DejaVuSans-48\"/>\n       <use x=\"190.869141\" xlink:href=\"#DejaVuSans-48\"/>\n      </g>\n     </g>\n    </g>\n    <g id=\"xtick_5\">\n     <g id=\"line2d_5\">\n      <g>\n       <use style=\"stroke:#000000;stroke-width:0.8;\" x=\"222.452609\" xlink:href=\"#m95da488f67\" y=\"253.1955\"/>\n      </g>\n     </g>\n     <g id=\"text_5\">\n      <!-- 4000 -->\n      <defs>\n       <path d=\"M 37.796875 64.3125 \nL 12.890625 25.390625 \nL 37.796875 25.390625 \nz\nM 35.203125 72.90625 \nL 47.609375 72.90625 \nL 47.609375 25.390625 \nL 58.015625 25.390625 \nL 58.015625 17.1875 \nL 47.609375 17.1875 \nL 47.609375 0 \nL 37.796875 0 \nL 37.796875 17.1875 \nL 4.890625 17.1875 \nL 4.890625 26.703125 \nz\n\" id=\"DejaVuSans-52\"/>\n      </defs>\n      <g transform=\"translate(209.727609 267.793937)scale(0.1 -0.1)\">\n       <use xlink:href=\"#DejaVuSans-52\"/>\n       <use x=\"63.623047\" xlink:href=\"#DejaVuSans-48\"/>\n       <use x=\"127.246094\" xlink:href=\"#DejaVuSans-48\"/>\n       <use x=\"190.869141\" xlink:href=\"#DejaVuSans-48\"/>\n      </g>\n     </g>\n    </g>\n    <g id=\"xtick_6\">\n     <g id=\"line2d_6\">\n      <g>\n       <use style=\"stroke:#000000;stroke-width:0.8;\" x=\"265.939341\" xlink:href=\"#m95da488f67\" y=\"253.1955\"/>\n      </g>\n     </g>\n     <g id=\"text_6\">\n      <!-- 5000 -->\n      <defs>\n       <path d=\"M 10.796875 72.90625 \nL 49.515625 72.90625 \nL 49.515625 64.59375 \nL 19.828125 64.59375 \nL 19.828125 46.734375 \nQ 21.96875 47.46875 24.109375 47.828125 \nQ 26.265625 48.1875 28.421875 48.1875 \nQ 40.625 48.1875 47.75 41.5 \nQ 54.890625 34.8125 54.890625 23.390625 \nQ 54.890625 11.625 47.5625 5.09375 \nQ 40.234375 -1.421875 26.90625 -1.421875 \nQ 22.3125 -1.421875 17.546875 -0.640625 \nQ 12.796875 0.140625 7.71875 1.703125 \nL 7.71875 11.625 \nQ 12.109375 9.234375 16.796875 8.0625 \nQ 21.484375 6.890625 26.703125 6.890625 \nQ 35.15625 6.890625 40.078125 11.328125 \nQ 45.015625 15.765625 45.015625 23.390625 \nQ 45.015625 31 40.078125 35.4375 \nQ 35.15625 39.890625 26.703125 39.890625 \nQ 22.75 39.890625 18.8125 39.015625 \nQ 14.890625 38.140625 10.796875 36.28125 \nz\n\" id=\"DejaVuSans-53\"/>\n      </defs>\n      <g transform=\"translate(253.214341 267.793937)scale(0.1 -0.1)\">\n       <use xlink:href=\"#DejaVuSans-53\"/>\n       <use x=\"63.623047\" xlink:href=\"#DejaVuSans-48\"/>\n       <use x=\"127.246094\" xlink:href=\"#DejaVuSans-48\"/>\n       <use x=\"190.869141\" xlink:href=\"#DejaVuSans-48\"/>\n      </g>\n     </g>\n    </g>\n    <g id=\"xtick_7\">\n     <g id=\"line2d_7\">\n      <g>\n       <use style=\"stroke:#000000;stroke-width:0.8;\" x=\"309.426073\" xlink:href=\"#m95da488f67\" y=\"253.1955\"/>\n      </g>\n     </g>\n     <g id=\"text_7\">\n      <!-- 6000 -->\n      <defs>\n       <path d=\"M 33.015625 40.375 \nQ 26.375 40.375 22.484375 35.828125 \nQ 18.609375 31.296875 18.609375 23.390625 \nQ 18.609375 15.53125 22.484375 10.953125 \nQ 26.375 6.390625 33.015625 6.390625 \nQ 39.65625 6.390625 43.53125 10.953125 \nQ 47.40625 15.53125 47.40625 23.390625 \nQ 47.40625 31.296875 43.53125 35.828125 \nQ 39.65625 40.375 33.015625 40.375 \nz\nM 52.59375 71.296875 \nL 52.59375 62.3125 \nQ 48.875 64.0625 45.09375 64.984375 \nQ 41.3125 65.921875 37.59375 65.921875 \nQ 27.828125 65.921875 22.671875 59.328125 \nQ 17.53125 52.734375 16.796875 39.40625 \nQ 19.671875 43.65625 24.015625 45.921875 \nQ 28.375 48.1875 33.59375 48.1875 \nQ 44.578125 48.1875 50.953125 41.515625 \nQ 57.328125 34.859375 57.328125 23.390625 \nQ 57.328125 12.15625 50.6875 5.359375 \nQ 44.046875 -1.421875 33.015625 -1.421875 \nQ 20.359375 -1.421875 13.671875 8.265625 \nQ 6.984375 17.96875 6.984375 36.375 \nQ 6.984375 53.65625 15.1875 63.9375 \nQ 23.390625 74.21875 37.203125 74.21875 \nQ 40.921875 74.21875 44.703125 73.484375 \nQ 48.484375 72.75 52.59375 71.296875 \nz\n\" id=\"DejaVuSans-54\"/>\n      </defs>\n      <g transform=\"translate(296.701073 267.793937)scale(0.1 -0.1)\">\n       <use xlink:href=\"#DejaVuSans-54\"/>\n       <use x=\"63.623047\" xlink:href=\"#DejaVuSans-48\"/>\n       <use x=\"127.246094\" xlink:href=\"#DejaVuSans-48\"/>\n       <use x=\"190.869141\" xlink:href=\"#DejaVuSans-48\"/>\n      </g>\n     </g>\n    </g>\n    <g id=\"xtick_8\">\n     <g id=\"line2d_8\">\n      <g>\n       <use style=\"stroke:#000000;stroke-width:0.8;\" x=\"352.912805\" xlink:href=\"#m95da488f67\" y=\"253.1955\"/>\n      </g>\n     </g>\n     <g id=\"text_8\">\n      <!-- 7000 -->\n      <defs>\n       <path d=\"M 8.203125 72.90625 \nL 55.078125 72.90625 \nL 55.078125 68.703125 \nL 28.609375 0 \nL 18.3125 0 \nL 43.21875 64.59375 \nL 8.203125 64.59375 \nz\n\" id=\"DejaVuSans-55\"/>\n      </defs>\n      <g transform=\"translate(340.187805 267.793937)scale(0.1 -0.1)\">\n       <use xlink:href=\"#DejaVuSans-55\"/>\n       <use x=\"63.623047\" xlink:href=\"#DejaVuSans-48\"/>\n       <use x=\"127.246094\" xlink:href=\"#DejaVuSans-48\"/>\n       <use x=\"190.869141\" xlink:href=\"#DejaVuSans-48\"/>\n      </g>\n     </g>\n    </g>\n   </g>\n   <g id=\"matplotlib.axis_2\">\n    <g id=\"ytick_1\">\n     <g id=\"line2d_9\">\n      <defs>\n       <path d=\"M 0 0 \nL -3.5 0 \n\" id=\"m8dd6405be0\" style=\"stroke:#000000;stroke-width:0.8;\"/>\n      </defs>\n      <g>\n       <use style=\"stroke:#000000;stroke-width:0.8;\" x=\"33.2875\" xlink:href=\"#m8dd6405be0\" y=\"243.358352\"/>\n      </g>\n     </g>\n     <g id=\"text_9\">\n      <!-- 0 -->\n      <g transform=\"translate(19.925 247.157571)scale(0.1 -0.1)\">\n       <use xlink:href=\"#DejaVuSans-48\"/>\n      </g>\n     </g>\n    </g>\n    <g id=\"ytick_2\">\n     <g id=\"line2d_10\">\n      <g>\n       <use style=\"stroke:#000000;stroke-width:0.8;\" x=\"33.2875\" xlink:href=\"#m8dd6405be0\" y=\"216.199119\"/>\n      </g>\n     </g>\n     <g id=\"text_10\">\n      <!-- 50 -->\n      <g transform=\"translate(13.5625 219.998338)scale(0.1 -0.1)\">\n       <use xlink:href=\"#DejaVuSans-53\"/>\n       <use x=\"63.623047\" xlink:href=\"#DejaVuSans-48\"/>\n      </g>\n     </g>\n    </g>\n    <g id=\"ytick_3\">\n     <g id=\"line2d_11\">\n      <g>\n       <use style=\"stroke:#000000;stroke-width:0.8;\" x=\"33.2875\" xlink:href=\"#m8dd6405be0\" y=\"189.039886\"/>\n      </g>\n     </g>\n     <g id=\"text_11\">\n      <!-- 100 -->\n      <g transform=\"translate(7.2 192.839105)scale(0.1 -0.1)\">\n       <use xlink:href=\"#DejaVuSans-49\"/>\n       <use x=\"63.623047\" xlink:href=\"#DejaVuSans-48\"/>\n       <use x=\"127.246094\" xlink:href=\"#DejaVuSans-48\"/>\n      </g>\n     </g>\n    </g>\n    <g id=\"ytick_4\">\n     <g id=\"line2d_12\">\n      <g>\n       <use style=\"stroke:#000000;stroke-width:0.8;\" x=\"33.2875\" xlink:href=\"#m8dd6405be0\" y=\"161.880653\"/>\n      </g>\n     </g>\n     <g id=\"text_12\">\n      <!-- 150 -->\n      <g transform=\"translate(7.2 165.679872)scale(0.1 -0.1)\">\n       <use xlink:href=\"#DejaVuSans-49\"/>\n       <use x=\"63.623047\" xlink:href=\"#DejaVuSans-53\"/>\n       <use x=\"127.246094\" xlink:href=\"#DejaVuSans-48\"/>\n      </g>\n     </g>\n    </g>\n    <g id=\"ytick_5\">\n     <g id=\"line2d_13\">\n      <g>\n       <use style=\"stroke:#000000;stroke-width:0.8;\" x=\"33.2875\" xlink:href=\"#m8dd6405be0\" y=\"134.72142\"/>\n      </g>\n     </g>\n     <g id=\"text_13\">\n      <!-- 200 -->\n      <g transform=\"translate(7.2 138.520639)scale(0.1 -0.1)\">\n       <use xlink:href=\"#DejaVuSans-50\"/>\n       <use x=\"63.623047\" xlink:href=\"#DejaVuSans-48\"/>\n       <use x=\"127.246094\" xlink:href=\"#DejaVuSans-48\"/>\n      </g>\n     </g>\n    </g>\n    <g id=\"ytick_6\">\n     <g id=\"line2d_14\">\n      <g>\n       <use style=\"stroke:#000000;stroke-width:0.8;\" x=\"33.2875\" xlink:href=\"#m8dd6405be0\" y=\"107.562187\"/>\n      </g>\n     </g>\n     <g id=\"text_14\">\n      <!-- 250 -->\n      <g transform=\"translate(7.2 111.361406)scale(0.1 -0.1)\">\n       <use xlink:href=\"#DejaVuSans-50\"/>\n       <use x=\"63.623047\" xlink:href=\"#DejaVuSans-53\"/>\n       <use x=\"127.246094\" xlink:href=\"#DejaVuSans-48\"/>\n      </g>\n     </g>\n    </g>\n    <g id=\"ytick_7\">\n     <g id=\"line2d_15\">\n      <g>\n       <use style=\"stroke:#000000;stroke-width:0.8;\" x=\"33.2875\" xlink:href=\"#m8dd6405be0\" y=\"80.402954\"/>\n      </g>\n     </g>\n     <g id=\"text_15\">\n      <!-- 300 -->\n      <g transform=\"translate(7.2 84.202173)scale(0.1 -0.1)\">\n       <use xlink:href=\"#DejaVuSans-51\"/>\n       <use x=\"63.623047\" xlink:href=\"#DejaVuSans-48\"/>\n       <use x=\"127.246094\" xlink:href=\"#DejaVuSans-48\"/>\n      </g>\n     </g>\n    </g>\n    <g id=\"ytick_8\">\n     <g id=\"line2d_16\">\n      <g>\n       <use style=\"stroke:#000000;stroke-width:0.8;\" x=\"33.2875\" xlink:href=\"#m8dd6405be0\" y=\"53.243722\"/>\n      </g>\n     </g>\n     <g id=\"text_16\">\n      <!-- 350 -->\n      <g transform=\"translate(7.2 57.04294)scale(0.1 -0.1)\">\n       <use xlink:href=\"#DejaVuSans-51\"/>\n       <use x=\"63.623047\" xlink:href=\"#DejaVuSans-53\"/>\n       <use x=\"127.246094\" xlink:href=\"#DejaVuSans-48\"/>\n      </g>\n     </g>\n    </g>\n   </g>\n   <g id=\"line2d_17\">\n    <path clip-path=\"url(#pbf71c7db2d)\" d=\"M 48.505682 189.311478 \nL 49.549363 195.100706 \nL 50.680018 200.116082 \nL 51.85416 204.32682 \nL 53.115275 208.021317 \nL 54.419877 211.171953 \nL 55.811453 213.966459 \nL 57.290002 216.448281 \nL 58.899011 218.712482 \nL 60.594993 220.719841 \nL 62.464923 222.584992 \nL 64.465312 224.267331 \nL 66.683136 225.840033 \nL 69.118393 227.293027 \nL 71.858057 228.663969 \nL 74.945615 229.953023 \nL 78.424553 231.158746 \nL 82.381846 232.290939 \nL 86.947953 233.361345 \nL 92.253334 234.371189 \nL 98.471937 235.322559 \nL 105.821194 236.21603 \nL 114.605514 237.053819 \nL 125.259764 237.838993 \nL 138.305783 238.569273 \nL 154.526334 239.245783 \nL 175.008585 239.868286 \nL 201.405031 240.437946 \nL 236.194417 240.954944 \nL 283.24706 241.419215 \nL 348.955512 241.831174 \nL 352.869318 241.850257 \nL 352.869318 241.850257 \n\" style=\"fill:none;stroke:#1f77b4;stroke-linecap:square;stroke-width:1.5;\"/>\n   </g>\n   <g id=\"line2d_18\">\n    <path clip-path=\"url(#pbf71c7db2d)\" d=\"M 48.505682 134.178236 \nL 49.810284 119.305334 \nL 50.897452 109.257836 \nL 51.897647 101.918224 \nL 52.854355 96.439136 \nL 53.767576 92.403715 \nL 54.680798 89.321255 \nL 55.594019 86.995458 \nL 56.50724 85.256809 \nL 57.463949 83.913813 \nL 58.464143 82.898951 \nL 59.551312 82.121969 \nL 60.76894 81.533015 \nL 62.204002 81.091131 \nL 64.073932 80.762992 \nL 66.683136 80.548535 \nL 71.162269 80.433669 \nL 84.512696 80.403251 \nL 352.869318 80.402954 \nL 352.869318 80.402954 \n\" style=\"fill:none;stroke:#ff7f0e;stroke-linecap:square;stroke-width:1.5;\"/>\n   </g>\n   <g id=\"line2d_19\">\n    <path clip-path=\"url(#pbf71c7db2d)\" d=\"M 48.505682 161.880653 \nL 48.679629 206.706668 \nL 48.940549 222.295563 \nL 49.288443 229.73403 \nL 49.679824 233.55856 \nL 50.158178 236.043273 \nL 50.680018 237.620344 \nL 51.288833 238.769604 \nL 51.98462 239.622161 \nL 52.854355 240.324937 \nL 53.941523 240.901465 \nL 55.376585 241.393569 \nL 57.333488 241.814614 \nL 60.160126 242.179173 \nL 64.465312 242.490865 \nL 71.466676 242.751502 \nL 83.816908 242.961615 \nL 108.386912 243.123377 \nL 166.485185 243.238693 \nL 348.172751 243.311136 \nL 352.869318 243.311864 \nL 352.869318 243.311864 \n\" style=\"fill:none;stroke:#2ca02c;stroke-linecap:square;stroke-width:1.5;\"/>\n   </g>\n   <g id=\"line2d_20\">\n    <path clip-path=\"url(#pbf71c7db2d)\" d=\"M 48.505682 45.639136 \nL 48.810089 118.741593 \nL 49.157983 153.078655 \nL 49.59285 174.419161 \nL 50.071204 187.380748 \nL 50.593045 195.9786 \nL 51.201859 202.389343 \nL 51.85416 206.936259 \nL 52.549948 210.278141 \nL 53.289222 212.796926 \nL 54.071983 214.72961 \nL 54.941718 216.298718 \nL 55.898426 217.557238 \nL 56.942108 218.555373 \nL 58.11625 219.363458 \nL 59.464338 220.016075 \nL 61.073347 220.542963 \nL 63.117224 220.965251 \nL 65.813401 221.279016 \nL 69.727207 221.489894 \nL 76.554624 221.601998 \nL 97.515229 221.630738 \nL 352.869318 221.630965 \nL 352.869318 221.630965 \n\" style=\"fill:none;stroke:#d62728;stroke-linecap:square;stroke-width:1.5;\"/>\n   </g>\n   <g id=\"patch_3\">\n    <path d=\"M 33.2875 253.1955 \nL 33.2875 35.7555 \n\" style=\"fill:none;stroke:#000000;stroke-linecap:square;stroke-linejoin:miter;stroke-width:0.8;\"/>\n   </g>\n   <g id=\"patch_4\">\n    <path d=\"M 368.0875 253.1955 \nL 368.0875 35.7555 \n\" style=\"fill:none;stroke:#000000;stroke-linecap:square;stroke-linejoin:miter;stroke-width:0.8;\"/>\n   </g>\n   <g id=\"patch_5\">\n    <path d=\"M 33.2875 253.1955 \nL 368.0875 253.1955 \n\" style=\"fill:none;stroke:#000000;stroke-linecap:square;stroke-linejoin:miter;stroke-width:0.8;\"/>\n   </g>\n   <g id=\"patch_6\">\n    <path d=\"M 33.2875 35.7555 \nL 368.0875 35.7555 \n\" style=\"fill:none;stroke:#000000;stroke-linecap:square;stroke-linejoin:miter;stroke-width:0.8;\"/>\n   </g>\n   <g id=\"text_17\">\n    <!-- initial population = 1000 -->\n    <defs>\n     <path d=\"M 9.421875 54.6875 \nL 18.40625 54.6875 \nL 18.40625 0 \nL 9.421875 0 \nz\nM 9.421875 75.984375 \nL 18.40625 75.984375 \nL 18.40625 64.59375 \nL 9.421875 64.59375 \nz\n\" id=\"DejaVuSans-105\"/>\n     <path d=\"M 54.890625 33.015625 \nL 54.890625 0 \nL 45.90625 0 \nL 45.90625 32.71875 \nQ 45.90625 40.484375 42.875 44.328125 \nQ 39.84375 48.1875 33.796875 48.1875 \nQ 26.515625 48.1875 22.3125 43.546875 \nQ 18.109375 38.921875 18.109375 30.90625 \nL 18.109375 0 \nL 9.078125 0 \nL 9.078125 54.6875 \nL 18.109375 54.6875 \nL 18.109375 46.1875 \nQ 21.34375 51.125 25.703125 53.5625 \nQ 30.078125 56 35.796875 56 \nQ 45.21875 56 50.046875 50.171875 \nQ 54.890625 44.34375 54.890625 33.015625 \nz\n\" id=\"DejaVuSans-110\"/>\n     <path d=\"M 18.3125 70.21875 \nL 18.3125 54.6875 \nL 36.8125 54.6875 \nL 36.8125 47.703125 \nL 18.3125 47.703125 \nL 18.3125 18.015625 \nQ 18.3125 11.328125 20.140625 9.421875 \nQ 21.96875 7.515625 27.59375 7.515625 \nL 36.8125 7.515625 \nL 36.8125 0 \nL 27.59375 0 \nQ 17.1875 0 13.234375 3.875 \nQ 9.28125 7.765625 9.28125 18.015625 \nL 9.28125 47.703125 \nL 2.6875 47.703125 \nL 2.6875 54.6875 \nL 9.28125 54.6875 \nL 9.28125 70.21875 \nz\n\" id=\"DejaVuSans-116\"/>\n     <path d=\"M 34.28125 27.484375 \nQ 23.390625 27.484375 19.1875 25 \nQ 14.984375 22.515625 14.984375 16.5 \nQ 14.984375 11.71875 18.140625 8.90625 \nQ 21.296875 6.109375 26.703125 6.109375 \nQ 34.1875 6.109375 38.703125 11.40625 \nQ 43.21875 16.703125 43.21875 25.484375 \nL 43.21875 27.484375 \nz\nM 52.203125 31.203125 \nL 52.203125 0 \nL 43.21875 0 \nL 43.21875 8.296875 \nQ 40.140625 3.328125 35.546875 0.953125 \nQ 30.953125 -1.421875 24.3125 -1.421875 \nQ 15.921875 -1.421875 10.953125 3.296875 \nQ 6 8.015625 6 15.921875 \nQ 6 25.140625 12.171875 29.828125 \nQ 18.359375 34.515625 30.609375 34.515625 \nL 43.21875 34.515625 \nL 43.21875 35.40625 \nQ 43.21875 41.609375 39.140625 45 \nQ 35.0625 48.390625 27.6875 48.390625 \nQ 23 48.390625 18.546875 47.265625 \nQ 14.109375 46.140625 10.015625 43.890625 \nL 10.015625 52.203125 \nQ 14.9375 54.109375 19.578125 55.046875 \nQ 24.21875 56 28.609375 56 \nQ 40.484375 56 46.34375 49.84375 \nQ 52.203125 43.703125 52.203125 31.203125 \nz\n\" id=\"DejaVuSans-97\"/>\n     <path d=\"M 9.421875 75.984375 \nL 18.40625 75.984375 \nL 18.40625 0 \nL 9.421875 0 \nz\n\" id=\"DejaVuSans-108\"/>\n     <path id=\"DejaVuSans-32\"/>\n     <path d=\"M 18.109375 8.203125 \nL 18.109375 -20.796875 \nL 9.078125 -20.796875 \nL 9.078125 54.6875 \nL 18.109375 54.6875 \nL 18.109375 46.390625 \nQ 20.953125 51.265625 25.265625 53.625 \nQ 29.59375 56 35.59375 56 \nQ 45.5625 56 51.78125 48.09375 \nQ 58.015625 40.1875 58.015625 27.296875 \nQ 58.015625 14.40625 51.78125 6.484375 \nQ 45.5625 -1.421875 35.59375 -1.421875 \nQ 29.59375 -1.421875 25.265625 0.953125 \nQ 20.953125 3.328125 18.109375 8.203125 \nz\nM 48.6875 27.296875 \nQ 48.6875 37.203125 44.609375 42.84375 \nQ 40.53125 48.484375 33.40625 48.484375 \nQ 26.265625 48.484375 22.1875 42.84375 \nQ 18.109375 37.203125 18.109375 27.296875 \nQ 18.109375 17.390625 22.1875 11.75 \nQ 26.265625 6.109375 33.40625 6.109375 \nQ 40.53125 6.109375 44.609375 11.75 \nQ 48.6875 17.390625 48.6875 27.296875 \nz\n\" id=\"DejaVuSans-112\"/>\n     <path d=\"M 30.609375 48.390625 \nQ 23.390625 48.390625 19.1875 42.75 \nQ 14.984375 37.109375 14.984375 27.296875 \nQ 14.984375 17.484375 19.15625 11.84375 \nQ 23.34375 6.203125 30.609375 6.203125 \nQ 37.796875 6.203125 41.984375 11.859375 \nQ 46.1875 17.53125 46.1875 27.296875 \nQ 46.1875 37.015625 41.984375 42.703125 \nQ 37.796875 48.390625 30.609375 48.390625 \nz\nM 30.609375 56 \nQ 42.328125 56 49.015625 48.375 \nQ 55.71875 40.765625 55.71875 27.296875 \nQ 55.71875 13.875 49.015625 6.21875 \nQ 42.328125 -1.421875 30.609375 -1.421875 \nQ 18.84375 -1.421875 12.171875 6.21875 \nQ 5.515625 13.875 5.515625 27.296875 \nQ 5.515625 40.765625 12.171875 48.375 \nQ 18.84375 56 30.609375 56 \nz\n\" id=\"DejaVuSans-111\"/>\n     <path d=\"M 8.5 21.578125 \nL 8.5 54.6875 \nL 17.484375 54.6875 \nL 17.484375 21.921875 \nQ 17.484375 14.15625 20.5 10.265625 \nQ 23.53125 6.390625 29.59375 6.390625 \nQ 36.859375 6.390625 41.078125 11.03125 \nQ 45.3125 15.671875 45.3125 23.6875 \nL 45.3125 54.6875 \nL 54.296875 54.6875 \nL 54.296875 0 \nL 45.3125 0 \nL 45.3125 8.40625 \nQ 42.046875 3.421875 37.71875 1 \nQ 33.40625 -1.421875 27.6875 -1.421875 \nQ 18.265625 -1.421875 13.375 4.4375 \nQ 8.5 10.296875 8.5 21.578125 \nz\nM 31.109375 56 \nz\n\" id=\"DejaVuSans-117\"/>\n     <path d=\"M 10.59375 45.40625 \nL 73.1875 45.40625 \nL 73.1875 37.203125 \nL 10.59375 37.203125 \nz\nM 10.59375 25.484375 \nL 73.1875 25.484375 \nL 73.1875 17.1875 \nL 10.59375 17.1875 \nz\n\" id=\"DejaVuSans-61\"/>\n    </defs>\n    <g transform=\"translate(126.241563 16.318125)scale(0.12 -0.12)\">\n     <use xlink:href=\"#DejaVuSans-105\"/>\n     <use x=\"27.783203\" xlink:href=\"#DejaVuSans-110\"/>\n     <use x=\"91.162109\" xlink:href=\"#DejaVuSans-105\"/>\n     <use x=\"118.945312\" xlink:href=\"#DejaVuSans-116\"/>\n     <use x=\"158.154297\" xlink:href=\"#DejaVuSans-105\"/>\n     <use x=\"185.9375\" xlink:href=\"#DejaVuSans-97\"/>\n     <use x=\"247.216797\" xlink:href=\"#DejaVuSans-108\"/>\n     <use x=\"275\" xlink:href=\"#DejaVuSans-32\"/>\n     <use x=\"306.787109\" xlink:href=\"#DejaVuSans-112\"/>\n     <use x=\"370.263672\" xlink:href=\"#DejaVuSans-111\"/>\n     <use x=\"431.445312\" xlink:href=\"#DejaVuSans-112\"/>\n     <use x=\"494.921875\" xlink:href=\"#DejaVuSans-117\"/>\n     <use x=\"558.300781\" xlink:href=\"#DejaVuSans-108\"/>\n     <use x=\"586.083984\" xlink:href=\"#DejaVuSans-97\"/>\n     <use x=\"647.363281\" xlink:href=\"#DejaVuSans-116\"/>\n     <use x=\"686.572266\" xlink:href=\"#DejaVuSans-105\"/>\n     <use x=\"714.355469\" xlink:href=\"#DejaVuSans-111\"/>\n     <use x=\"775.537109\" xlink:href=\"#DejaVuSans-110\"/>\n     <use x=\"838.916016\" xlink:href=\"#DejaVuSans-32\"/>\n     <use x=\"870.703125\" xlink:href=\"#DejaVuSans-61\"/>\n     <use x=\"954.492188\" xlink:href=\"#DejaVuSans-32\"/>\n     <use x=\"986.279297\" xlink:href=\"#DejaVuSans-49\"/>\n     <use x=\"1049.902344\" xlink:href=\"#DejaVuSans-48\"/>\n     <use x=\"1113.525391\" xlink:href=\"#DejaVuSans-48\"/>\n     <use x=\"1177.148438\" xlink:href=\"#DejaVuSans-48\"/>\n    </g>\n    <!--     final populaiton = 342.86 -->\n    <defs>\n     <path d=\"M 37.109375 75.984375 \nL 37.109375 68.5 \nL 28.515625 68.5 \nQ 23.6875 68.5 21.796875 66.546875 \nQ 19.921875 64.59375 19.921875 59.515625 \nL 19.921875 54.6875 \nL 34.71875 54.6875 \nL 34.71875 47.703125 \nL 19.921875 47.703125 \nL 19.921875 0 \nL 10.890625 0 \nL 10.890625 47.703125 \nL 2.296875 47.703125 \nL 2.296875 54.6875 \nL 10.890625 54.6875 \nL 10.890625 58.5 \nQ 10.890625 67.625 15.140625 71.796875 \nQ 19.390625 75.984375 28.609375 75.984375 \nz\n\" id=\"DejaVuSans-102\"/>\n     <path d=\"M 10.6875 12.40625 \nL 21 12.40625 \nL 21 0 \nL 10.6875 0 \nz\n\" id=\"DejaVuSans-46\"/>\n     <path d=\"M 31.78125 34.625 \nQ 24.75 34.625 20.71875 30.859375 \nQ 16.703125 27.09375 16.703125 20.515625 \nQ 16.703125 13.921875 20.71875 10.15625 \nQ 24.75 6.390625 31.78125 6.390625 \nQ 38.8125 6.390625 42.859375 10.171875 \nQ 46.921875 13.96875 46.921875 20.515625 \nQ 46.921875 27.09375 42.890625 30.859375 \nQ 38.875 34.625 31.78125 34.625 \nz\nM 21.921875 38.8125 \nQ 15.578125 40.375 12.03125 44.71875 \nQ 8.5 49.078125 8.5 55.328125 \nQ 8.5 64.0625 14.71875 69.140625 \nQ 20.953125 74.21875 31.78125 74.21875 \nQ 42.671875 74.21875 48.875 69.140625 \nQ 55.078125 64.0625 55.078125 55.328125 \nQ 55.078125 49.078125 51.53125 44.71875 \nQ 48 40.375 41.703125 38.8125 \nQ 48.828125 37.15625 52.796875 32.3125 \nQ 56.78125 27.484375 56.78125 20.515625 \nQ 56.78125 9.90625 50.3125 4.234375 \nQ 43.84375 -1.421875 31.78125 -1.421875 \nQ 19.734375 -1.421875 13.25 4.234375 \nQ 6.78125 9.90625 6.78125 20.515625 \nQ 6.78125 27.484375 10.78125 32.3125 \nQ 14.796875 37.15625 21.921875 38.8125 \nz\nM 18.3125 54.390625 \nQ 18.3125 48.734375 21.84375 45.5625 \nQ 25.390625 42.390625 31.78125 42.390625 \nQ 38.140625 42.390625 41.71875 45.5625 \nQ 45.3125 48.734375 45.3125 54.390625 \nQ 45.3125 60.0625 41.71875 63.234375 \nQ 38.140625 66.40625 31.78125 66.40625 \nQ 25.390625 66.40625 21.84375 63.234375 \nQ 18.3125 60.0625 18.3125 54.390625 \nz\n\" id=\"DejaVuSans-56\"/>\n    </defs>\n    <g transform=\"translate(116.463437 29.7555)scale(0.12 -0.12)\">\n     <use xlink:href=\"#DejaVuSans-32\"/>\n     <use x=\"31.787109\" xlink:href=\"#DejaVuSans-32\"/>\n     <use x=\"63.574219\" xlink:href=\"#DejaVuSans-32\"/>\n     <use x=\"95.361328\" xlink:href=\"#DejaVuSans-32\"/>\n     <use x=\"127.148438\" xlink:href=\"#DejaVuSans-102\"/>\n     <use x=\"162.353516\" xlink:href=\"#DejaVuSans-105\"/>\n     <use x=\"190.136719\" xlink:href=\"#DejaVuSans-110\"/>\n     <use x=\"253.515625\" xlink:href=\"#DejaVuSans-97\"/>\n     <use x=\"314.794922\" xlink:href=\"#DejaVuSans-108\"/>\n     <use x=\"342.578125\" xlink:href=\"#DejaVuSans-32\"/>\n     <use x=\"374.365234\" xlink:href=\"#DejaVuSans-112\"/>\n     <use x=\"437.841797\" xlink:href=\"#DejaVuSans-111\"/>\n     <use x=\"499.023438\" xlink:href=\"#DejaVuSans-112\"/>\n     <use x=\"562.5\" xlink:href=\"#DejaVuSans-117\"/>\n     <use x=\"625.878906\" xlink:href=\"#DejaVuSans-108\"/>\n     <use x=\"653.662109\" xlink:href=\"#DejaVuSans-97\"/>\n     <use x=\"714.941406\" xlink:href=\"#DejaVuSans-105\"/>\n     <use x=\"742.724609\" xlink:href=\"#DejaVuSans-116\"/>\n     <use x=\"781.933594\" xlink:href=\"#DejaVuSans-111\"/>\n     <use x=\"843.115234\" xlink:href=\"#DejaVuSans-110\"/>\n     <use x=\"906.494141\" xlink:href=\"#DejaVuSans-32\"/>\n     <use x=\"938.28125\" xlink:href=\"#DejaVuSans-61\"/>\n     <use x=\"1022.070312\" xlink:href=\"#DejaVuSans-32\"/>\n     <use x=\"1053.857422\" xlink:href=\"#DejaVuSans-51\"/>\n     <use x=\"1117.480469\" xlink:href=\"#DejaVuSans-52\"/>\n     <use x=\"1181.103516\" xlink:href=\"#DejaVuSans-50\"/>\n     <use x=\"1244.726562\" xlink:href=\"#DejaVuSans-46\"/>\n     <use x=\"1276.513672\" xlink:href=\"#DejaVuSans-56\"/>\n     <use x=\"1340.136719\" xlink:href=\"#DejaVuSans-54\"/>\n    </g>\n   </g>\n   <g id=\"legend_1\">\n    <g id=\"patch_7\">\n     <path d=\"M 310 175.33175 \nL 361.0875 175.33175 \nQ 363.0875 175.33175 363.0875 173.33175 \nL 363.0875 115.61925 \nQ 363.0875 113.61925 361.0875 113.61925 \nL 310 113.61925 \nQ 308 113.61925 308 115.61925 \nL 308 173.33175 \nQ 308 175.33175 310 175.33175 \nz\n\" style=\"fill:#ffffff;opacity:0.8;stroke:#cccccc;stroke-linejoin:miter;\"/>\n    </g>\n    <g id=\"line2d_21\">\n     <path d=\"M 312 121.717688 \nL 332 121.717688 \n\" style=\"fill:none;stroke:#1f77b4;stroke-linecap:square;stroke-width:1.5;\"/>\n    </g>\n    <g id=\"line2d_22\"/>\n    <g id=\"text_18\">\n     <!-- 100 -->\n     <g transform=\"translate(340 125.217688)scale(0.1 -0.1)\">\n      <use xlink:href=\"#DejaVuSans-49\"/>\n      <use x=\"63.623047\" xlink:href=\"#DejaVuSans-48\"/>\n      <use x=\"127.246094\" xlink:href=\"#DejaVuSans-48\"/>\n     </g>\n    </g>\n    <g id=\"line2d_23\">\n     <path d=\"M 312 136.395813 \nL 332 136.395813 \n\" style=\"fill:none;stroke:#ff7f0e;stroke-linecap:square;stroke-width:1.5;\"/>\n    </g>\n    <g id=\"line2d_24\"/>\n    <g id=\"text_19\">\n     <!-- 200 -->\n     <g transform=\"translate(340 139.895813)scale(0.1 -0.1)\">\n      <use xlink:href=\"#DejaVuSans-50\"/>\n      <use x=\"63.623047\" xlink:href=\"#DejaVuSans-48\"/>\n      <use x=\"127.246094\" xlink:href=\"#DejaVuSans-48\"/>\n     </g>\n    </g>\n    <g id=\"line2d_25\">\n     <path d=\"M 312 151.073937 \nL 332 151.073937 \n\" style=\"fill:none;stroke:#2ca02c;stroke-linecap:square;stroke-width:1.5;\"/>\n    </g>\n    <g id=\"line2d_26\"/>\n    <g id=\"text_20\">\n     <!-- 300 -->\n     <g transform=\"translate(340 154.573937)scale(0.1 -0.1)\">\n      <use xlink:href=\"#DejaVuSans-51\"/>\n      <use x=\"63.623047\" xlink:href=\"#DejaVuSans-48\"/>\n      <use x=\"127.246094\" xlink:href=\"#DejaVuSans-48\"/>\n     </g>\n    </g>\n    <g id=\"line2d_27\">\n     <path d=\"M 312 165.752063 \nL 332 165.752063 \n\" style=\"fill:none;stroke:#d62728;stroke-linecap:square;stroke-width:1.5;\"/>\n    </g>\n    <g id=\"line2d_28\"/>\n    <g id=\"text_21\">\n     <!-- 400 -->\n     <g transform=\"translate(340 169.252063)scale(0.1 -0.1)\">\n      <use xlink:href=\"#DejaVuSans-52\"/>\n      <use x=\"63.623047\" xlink:href=\"#DejaVuSans-48\"/>\n      <use x=\"127.246094\" xlink:href=\"#DejaVuSans-48\"/>\n     </g>\n    </g>\n   </g>\n  </g>\n </g>\n <defs>\n  <clipPath id=\"pbf71c7db2d\">\n   <rect height=\"217.44\" width=\"334.8\" x=\"33.2875\" y=\"35.7555\"/>\n  </clipPath>\n </defs>\n</svg>\n",
            "image/png": "[encoded data removed]"
          },
          "metadata": {
            "needs_background": "light"
          }
        }
      ],
      "source": [
        "# nb = 4; count = 7000\n",
        "# pop = np.array([100,200,300,400])\n",
        "# init_pop = pop\n",
        "# gc = np.array([0.01,0.015,0.01,0.01])\n",
        "# dc = np.array([0.005,0.01,0.5,0.1])\n",
        "# k = 1000\n",
        "# nut = np.array([0,1,0,1])\n",
        "\n",
        "# k_prop = k*pop/pop.sum()\n",
        "# p_pop = np.zeros((count,nb))\n",
        "# for i in range(count):\n",
        "#     pop = pop*(1+gc*nut  - pop*dc/k_prop)\n",
        "#     pop = np.where(pop < 0.01,0.01,0)+pop \n",
        "#     p_pop[i] = pop\n",
        "\n",
        "# for i in range(4):\n",
        "#     plt.plot(p_pop[:,i],label =init_pop[i] )\n",
        "#     plt.legend()\n",
        "#     plt.title(\"\"\"initial population = {0}\n",
        "#     final populaiton = {1:.2f}\"\"\".format(init_pop.sum(),p_pop[-1].sum()))"
      ]
    },
    {
      "cell_type": "markdown",
      "metadata": {
        "id": "V_nTSdMXWgMV"
      },
      "source": [
        "# configure before running the simulation"
      ]
    },
    {
      "cell_type": "markdown",
      "metadata": {
        "id": "Xb4RXV3ug2we"
      },
      "source": [
        "the below cell needs to be run only once for setup.\n",
        "\n"
      ]
    },
    {
      "cell_type": "code",
      "metadata": {
        "id": "GDpH27DigKE-",
        "outputId": "a5e41c0a-8e4c-4355-935f-94fa393138b1",
        "colab": {
          "base_uri": "https://localhost:8080/"
        }
      },
      "source": [
        "\n",
        "destination = 'others'\n",
        "\n",
        "if destination == 'drive':\n",
        "    # run the below code if running in Colab and you wish to save file in the drive.\n",
        "  from google.colab import drive\n",
        "  drive.mount('/content/gdrive')\n",
        "  base_dir = '/content/gdrive/MyDrive/Colab Notebooks/'\n",
        "else:\n",
        "  base_dir = ''\n",
        "base_dir = base_dir + 'simulations-25May/'\n",
        "createDir(base_dir)\n"
      ],
      "execution_count": 8,
      "outputs": [
        {
          "output_type": "stream",
          "text": [
            "Drive already mounted at /content/gdrive; to attempt to forcibly remount, call drive.mount(\"/content/gdrive\", force_remount=True).\n",
            "created directory /content/gdrive/MyDrive/Colab Notebooks/simulations-30Apr/\n"
          ],
          "name": "stdout"
        }
      ]
    },
    {
      "cell_type": "code",
      "metadata": {
        "id": "z_5lyNxg0nZp"
      },
      "source": [
        "\n",
        "#change these for every experiment \n",
        "folder = base_dir+'exp1/' \n",
        "saveFig = True\n",
        "fileFormat ='png'\n",
        "plotN = 0 #this variable picks the last \"plotN\" history for plotting \n",
        "\n",
        "\n",
        "behavior = Behavior(nNutrients=4,stateSlicer = 6,actionSlicer = 2)\n",
        "brain = Brain(behavior)\n",
        "gut = Gut(nBacteria = 4)\n",
        "\n",
        "nrows = 2 if gut.nBacteria > 3 else 1 # change this if nutirents are more than 4\n",
        "ncols = gut.nBacteria//nrows\n",
        "\n",
        "stepSize = 1\n",
        "iterations = 1000000\n",
        "sim_num = 1\n",
        "n = iterations//stepSize\n",
        "gut.gc = 0.01\n",
        "gut.dc = 0.01\n",
        "gut.contribution = np.array([1,0,0,1])\n",
        "epsilon_mod = 1000\n",
        "\n",
        "\n",
        "# below parameters to pick appropriate data points for plotting only.\n",
        "choice = 'random'\n",
        "plotDataPoints = 500\n",
        "start,stop,step = 0,5,1\n",
        "sel = generatePlotSel(choice,n = plotDataPoints,iterations = iterations)  #check code definition to send proper variables\n"
      ],
      "execution_count": null,
      "outputs": []
    },
    {
      "cell_type": "markdown",
      "metadata": {
        "id": "x8PdSZVVV1JV"
      },
      "source": [
        "**run simulation**"
      ]
    },
    {
      "cell_type": "code",
      "metadata": {
        "tags": [],
        "id": "HEA_vT1c0nZq",
        "cellView": "form"
      },
      "source": [
        "%%time\n",
        "\n",
        "# instead of recording system state at fixed intervals, we can also record history at random timesteps\n",
        "# randSel = np.random.randint(0,iterations,n)\n",
        "# randSel.sort()\n",
        "\n",
        "behaviorHistory = np.zeros((iterations//stepSize,behavior.nNutrients))\n",
        "gutPopHistory = np.zeros((iterations//stepSize,gut.nBacteria))\n",
        "rewardHistory = np.zeros((iterations//stepSize))\n",
        "stateHistory = np.zeros((n,behavior.nNutrients))\n",
        "actionHistory = np.zeros((n,behavior.nNutrients))\n",
        "idx=0\n",
        "for t in tqdm(range(iterations)):\n",
        "    \n",
        "\n",
        "    # find best possible action in brain using RL\n",
        "    actionInd = brain.do(behavior.stateInd)\n",
        "    \n",
        "    # update behavior state as a result of action chosen by brain\n",
        "    oldInd = behavior.stateInd\n",
        "    newStateInd = behavior.updateState(behavior.stateInd,actionInd)\n",
        "    behavior.stateInd = newStateInd\n",
        "\n",
        "    #find the reward elicited by gut\n",
        "    behavior.ingestNutrients()\n",
        "    gut.generateReward(behavior.output)    \n",
        "    gut.updatePopulation(behavior.output)\n",
        "    \n",
        "    brain.learn(newStateInd,gut.reward)\n",
        "    brain.time = t\n",
        "\n",
        "    if t%epsilon_mod ==0:\n",
        "        brain.epsilon*=0.99\n",
        "\n",
        "    if t%stepSize==0:\n",
        "        behaviorHistory[idx] = behavior.output\n",
        "        gutPopHistory[idx] = gut.pop\n",
        "        rewardHistory[idx] = gut.reward\n",
        "        stateHistory[idx] = behavior.stateSet[oldInd]\n",
        "        actionHistory[idx] = behavior.actionSet[actionInd]\n",
        "\n",
        "        idx+=1\n",
        "\n",
        "    # if idx<n and t==randSel[idx] :\n",
        "    #     behaviorHistory[idx] = behavior.output\n",
        "    #     gutPopHistory[idx] = gut.pop\n",
        "    #     rewardHistory[idx] = gut.reward\n",
        "    #     stateHistory[idx] = behavior.stateSet[behavior.stateInd]\n",
        "    #     idx+=1\n",
        "\n",
        "writeParameters()"
      ],
      "execution_count": null,
      "outputs": []
    },
    {
      "cell_type": "markdown",
      "metadata": {
        "id": "oJIp0Q7-W0dY"
      },
      "source": [
        "# **Plots below**"
      ]
    },
    {
      "cell_type": "code",
      "metadata": {
        "id": "vNC0JckA0nZu",
        "cellView": "form"
      },
      "source": [
        "#@title\n",
        "# one scatter plot for each bacterium population. \n",
        "# relevant to trace out the population evolution across timesteps.\n",
        "\n",
        "def plotPopulation():\n",
        "  X = np.arange(sel.size)\n",
        "\n",
        "  fig,ax = plt.subplots(nrows,ncols,sharex = True, sharey = True,figsize = (15,6))\n",
        "  cm = plt.get_cmap(\"tab10\")\n",
        "  ax = ax.ravel()\n",
        "\n",
        "  for i in range(gut.nBacteria):\n",
        "    ax[i].scatter(X,gutPopHistory[sel,i],color = cm(i))\n",
        "    ax[i].set_ylabel(\"gut population\")\n",
        "    ax[i].set_xlabel(\"time\")\n",
        "\n",
        "  fig.text(0.4,0.9,\"Individual gut bacteria population evolution\")\n",
        "  if saveFig:\n",
        "    plt.savefig(folder+'scatter-per-bact-pop'+str(sim_num)+'.'+fileFormat,bbox_inches = 'tight',format= fileFormat)"
      ],
      "execution_count": null,
      "outputs": []
    },
    {
      "cell_type": "code",
      "metadata": {
        "id": "O14e6ncO0nZv",
        "cellView": "form"
      },
      "source": [
        "#@title\n",
        "# one scatter plot for state history. \n",
        "# relevant to trace out the population evolution across timesteps.\n",
        "\n",
        "def plotState():\n",
        "\n",
        "  X = np.arange(sel.size)\n",
        "  fig,ax = plt.subplots(nrows,ncols,sharex = True, sharey = True,figsize = (15,6))\n",
        "  cm = plt.get_cmap(\"tab10\")\n",
        "  ax = ax.ravel()\n",
        "\n",
        "  for i in range(gut.nBacteria):\n",
        "    ax[i].scatter(X,stateHistory[sel,i],color = cm(i))\n",
        "    ax[i].set_ylabel(\"cravings\")\n",
        "    ax[i].set_xlabel(\"time\")\n",
        "\n",
        "  fig.text(0.4,0.9,\"Individual state history\")\n",
        "  if saveFig:\n",
        "    plt.savefig(folder+'scatter-state'+str(sim_num)+'.'+fileFormat,bbox_inches = 'tight',format= fileFormat)"
      ],
      "execution_count": null,
      "outputs": []
    },
    {
      "cell_type": "code",
      "metadata": {
        "id": "FyXDJ9090nZy",
        "cellView": "form"
      },
      "source": [
        "#@title\n",
        "# plotting reward history\n",
        "def plotReward():    \n",
        "  plt.scatter(range(sel.size),rewardHistory[sel])\n",
        "  plt.xlabel(\"time\")\n",
        "  plt.ylabel(\"normalized reward\")\n",
        "  if saveFig:\n",
        "    plt.savefig(folder+'reward'+str(sim_num)+'.'+fileFormat,bbox_inches = 'tight',format= fileFormat)\n",
        "          "
      ],
      "execution_count": null,
      "outputs": []
    },
    {
      "cell_type": "code",
      "metadata": {
        "id": "-x7xSCNB0nZx",
        "cellView": "form"
      },
      "source": [
        "#@title\n",
        "# Behavior history for each bacterium - whether the bacteria received the nutrient or not. \n",
        "# yellow represents higher values (or presence of nutrient to the bacteria)\n",
        "# width of heat map\n",
        "\n",
        "def plotBehavior():\n",
        "  a = behaviorHistory\n",
        "  height = int(0.9*len(behavior.stateSet)//len(behavior.actionSet)) #height of the heat map\n",
        "  fig,ax = plt.subplots(nrows,ncols,sharey = True,sharex = True,figsize = (50,50))\n",
        "  ax = ax.ravel()\n",
        "\n",
        "  for i in range(gut.nBacteria):\n",
        "    ax[i].imshow(np.tile(a[sel,i],(height,1)))\n",
        "    ax[i].set_xticklabels([])\n",
        "    ax[i].set_yticklabels([])\n",
        "    ax[i].set_title(\"nutrient \"+str(i+1))\n",
        "  fig.text(0.3,0.3,\"time steps (whether with time, nutrients were being ingested or not?)\")\n",
        "  if saveFig:\n",
        "    plt.savefig(folder+'nutrient-behavior'+str(sim_num)+'.'+fileFormat,bbox_inches = 'tight',format= fileFormat)"
      ],
      "execution_count": null,
      "outputs": []
    },
    {
      "cell_type": "code",
      "metadata": {
        "id": "1EKMSyN60nZw",
        "cellView": "form"
      },
      "source": [
        "#@title\n",
        "# Qtable heat map\n",
        "\n",
        "def plotQTable():\n",
        "  nstates = len(behavior.stateSet)\n",
        "  nactions = len(behavior.actionSet)\n",
        "  expansion = 0.5*nstates//nactions\n",
        "\n",
        "\n",
        "  actions = behavior.actionSet\n",
        "  states = [behavior.stateSet[int(i)] for i in np.linspace(0,nstates,behavior.stateSlicer+1)[:-1]]\n",
        "\n",
        "  fig,ax = plt.subplots(1,1,figsize = (20,20))\n",
        "  ax.imshow(np.repeat(brain.qTable,expansion,1))\n",
        "\n",
        "  ax.set_xticks(np.linspace(0,nactions*expansion-1,nactions+1))\n",
        "  ax.set_xticklabels(actions,rotation = 45,fontsize = 6)\n",
        "\n",
        "  ax.set_yticks(np.linspace(0,nstates,behavior.stateSlicer+1))\n",
        "  ax.set_yticklabels(states,rotation = 90,fontsize = 6)\n",
        "\n",
        "  ax.set_xlabel(\"actions\")\n",
        "  ax.set_ylabel(\"states\")\n",
        "\n",
        "  if saveFig:\n",
        "    plt.savefig(folder+'qtable'+str(sim_num)+'.'+fileFormat,bbox_inches = 'tight',format = fileFormat)"
      ],
      "execution_count": null,
      "outputs": []
    },
    {
      "cell_type": "code",
      "metadata": {
        "id": "Wujz6sbDjcCb",
        "cellView": "form"
      },
      "source": [
        "#@title\n",
        "# plot action history to check the stagnation towards the end\n",
        "\n",
        "def plotActionHistory():\n",
        "  X = np.arange(sel.size)\n",
        "\n",
        "  fig,ax = plt.subplots(1,1,sharex = True, sharey = True,figsize = (15,6))\n",
        "  cm = plt.get_cmap(\"tab10\")\n",
        "\n",
        "  act_ind = []\n",
        "  actions = behavior.actionSet\n",
        "  for a in actionHistory[sel]:\n",
        "    act_ind.append(np.where((a == actions).all(1))[0][0])\n",
        "\n",
        "\n",
        "  plt.scatter(X,act_ind,c = np.tile(range(20),len(X)//20),cmap = plt.get_cmap())\n",
        "  plt.ylabel(\"Action\")\n",
        "  plt.xlabel(\"Time\")\n",
        "  plt.colorbar()\n",
        "  plt.yticks(range(16),actions) \n",
        "  fig.text(0.5,0.9,\"Action History\")\n",
        "\n",
        "  if saveFig:\n",
        "    plt.savefig(folder+'action-history'+str(sim_num)+'.'+fileFormat,bbox_inches = 'tight',format= fileFormat)"
      ],
      "execution_count": null,
      "outputs": []
    },
    {
      "cell_type": "code",
      "metadata": {
        "id": "8e5c71siZAyI"
      },
      "source": [
        "plotPopulation()\n",
        "plotState()\n",
        "plotReward()\n",
        "plotBehavior()\n",
        "plotQTable()\n",
        "plotActionHistory()\n"
      ],
      "execution_count": null,
      "outputs": []
    }
  ]
}